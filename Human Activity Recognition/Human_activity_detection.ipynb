{
 "cells": [
  {
   "cell_type": "markdown",
   "metadata": {},
   "source": [
    "<div style=\"text-align:right\"><span style=\"color:black; font-family:Georgia; font-size:1em\">Document Created date:19-01-2020"
   ]
  },
  {
   "cell_type": "markdown",
   "metadata": {},
   "source": [
    "<div style=\"text-align:center\"><span style=\"color:green; font-family:Georgia; font-size:3em;\">Human Activity Recognition</span></div>"
   ]
  },
  {
   "cell_type": "markdown",
   "metadata": {},
   "source": [
    "<img src ='har.png'>"
   ]
  },
  {
   "cell_type": "markdown",
   "metadata": {},
   "source": [
    "<div style=\"text-align:left\"><span style=\"color:green; font-family:Georgia; font-size:2em;\">Understanding Data</span></div>"
   ]
  },
  {
   "cell_type": "markdown",
   "metadata": {},
   "source": [
    "\n",
    "<br>\n",
    "\n",
    "\n",
    "This project is to build a model that predicts the human activities such as Walking, Walking_Upstairs, Walking_Downstairs, Sitting, Standing or Laying.\n",
    "\n",
    "This dataset is collected from 30 persons(referred as subjects in this dataset), performing different activities with a smartphone to their waists. The data is recorded with the help of sensors (accelerometer and Gyroscope) in that smartphone. This experiment was video recorded to label the data manually.\n",
    "\n",
    "## How data was recorded\n",
    "\n",
    "By using the sensors(Gyroscope and accelerometer) in a smartphone, they have captured '3-axial linear acceleration'(_tAcc-XYZ_) from accelerometer and '3-axial angular velocity' (_tGyro-XYZ_) from Gyroscope with several variations. \n",
    "\n",
    "> prefix 't' in those metrics denotes time.\n",
    "\n",
    "> suffix 'XYZ' represents 3-axial signals in X , Y, and Z directions.\n",
    "\n",
    "\n",
    "###  Y_Labels(Encoded)\n",
    "+ In the dataset, Y_labels are represented as numbers from 1 to 6 as their identifiers.\n",
    "\n",
    "\t- WALKING as __1__\n",
    "\t- WALKING_UPSTAIRS as __2__\n",
    "\t- WALKING_DOWNSTAIRS as __3__\n",
    "\t- SITTING as __4__\n",
    "\t- STANDING as __5__\n",
    "\t- LAYING as __6__\n",
    "    \n",
    "## Train and test data were saperated\n",
    " - The readings from ___70%___ of the volunteers were taken as ___trianing data___ and remaining ___30%___ subjects recordings were taken for ___test data___\n",
    " \n",
    "## Data\n",
    "\n",
    "* All the data is present in 'UCI_HAR_dataset/' folder in present working directory.\n",
    "     - Feature names are present in 'UCI_HAR_dataset/features.txt'\n",
    "     - ___Train Data___\n",
    "         - 'UCI_HAR_dataset/train/X_train.txt'\n",
    "         - 'UCI_HAR_dataset/train/subject_train.txt'\n",
    "         - 'UCI_HAR_dataset/train/y_train.txt'\n",
    "     - ___Test Data___\n",
    "         - 'UCI_HAR_dataset/test/X_test.txt'\n",
    "         - 'UCI_HAR_dataset/test/subject_test.txt'\n",
    "         - 'UCI_HAR_dataset/test/y_test.txt'\n",
    "         \n",
    "\n",
    "## Data Size :\n",
    "> 27 MB\n"
   ]
  },
  {
   "cell_type": "markdown",
   "metadata": {},
   "source": [
    "\n",
    "* Accelerometer and Gyroscope readings are taken from 30 volunteers(referred as subjects) while performing the following 6 Activities.\n",
    "\n",
    "    1. Walking     \n",
    "    2. WalkingUpstairs \n",
    "    3. WalkingDownstairs \n",
    "    4. Standing \n",
    "    5. Sitting \n",
    "    6. Lying.\n",
    "\n",
    "\n",
    "* Readings are divided into a window of 2.56 seconds with 50% overlapping. \n",
    "\n",
    "* Accelerometer readings are divided into gravity acceleration and body acceleration readings,\n",
    "  which has x,y and z components each.\n",
    "\n",
    "* Gyroscope readings are the measure of angular velocities which has x,y and z components.\n",
    "\n",
    "* Jerk signals are calculated for BodyAcceleration readings.\n",
    "\n",
    "* Fourier Transforms are made on the above time readings to obtain frequency readings.\n",
    "\n",
    "* Now, on all the base signal readings., mean, max, mad, sma, arcoefficient, engerybands,entropy etc., are calculated for each window.\n",
    "\n",
    "* We get a feature vector of 561 features and these features are given in the dataset.\n",
    "\n",
    "* Each window of readings is a datapoint of 561 features.\n",
    "\n",
    "## Problem Framework\n",
    "\n",
    "* 30 subjects(volunteers) data is randomly split to 70%(21) test and 30%(7) train data.\n",
    "* Each datapoint corresponds one of the 6 Activities.\n"
   ]
  },
  {
   "cell_type": "markdown",
   "metadata": {},
   "source": [
    "## Problem Statement\n",
    "\n",
    " + Given a new datapoint we have to predict the Activity"
   ]
  },
  {
   "cell_type": "markdown",
   "metadata": {},
   "source": [
    "# Exercise : HAR_LSTM HYPERPARATEMER TUNING"
   ]
  },
  {
   "cell_type": "code",
   "execution_count": 20,
   "metadata": {
    "colab": {
     "base_uri": "https://localhost:8080/",
     "height": 122
    },
    "colab_type": "code",
    "id": "pIaPf3GZbIAl",
    "outputId": "6aa3d2f2-0164-43fe-c15f-d7a5fb2c6365"
   },
   "outputs": [
    {
     "name": "stdout",
     "output_type": "stream",
     "text": [
      "Go to this URL in a browser: https://accounts.google.com/o/oauth2/auth?client_id=947318989803-6bn6qk8qdgf4n4g3pfee6491hc0brc4i.apps.googleusercontent.com&redirect_uri=urn%3aietf%3awg%3aoauth%3a2.0%3aoob&response_type=code&scope=email%20https%3a%2f%2fwww.googleapis.com%2fauth%2fdocs.test%20https%3a%2f%2fwww.googleapis.com%2fauth%2fdrive%20https%3a%2f%2fwww.googleapis.com%2fauth%2fdrive.photos.readonly%20https%3a%2f%2fwww.googleapis.com%2fauth%2fpeopleapi.readonly\n",
      "\n",
      "Enter your authorization code:\n",
      "··········\n",
      "Mounted at /content/drive\n"
     ]
    }
   ],
   "source": [
    "# Mounting Google Drive\n",
    "from google.colab import drive\n",
    "drive.mount('/content/drive') "
   ]
  },
  {
   "cell_type": "code",
   "execution_count": 0,
   "metadata": {
    "colab": {},
    "colab_type": "code",
    "id": "37DNs4d3bMDd"
   },
   "outputs": [],
   "source": [
    "# Unzip the Data\n",
    "import zipfile\n",
    "zipfile_from = zipfile.ZipFile('/content/drive/My Drive/HumanActivityRecognition.zip','r')\n",
    "zipfile_from.extractall('/content/drive/My Drive/HumanActivityrecognition')\n",
    "zipfile_from.close()"
   ]
  },
  {
   "cell_type": "code",
   "execution_count": 0,
   "metadata": {
    "colab": {},
    "colab_type": "code",
    "id": "OTDXjK5Xa7z5"
   },
   "outputs": [],
   "source": [
    "# Importing Libraries\n",
    "import pandas as pd\n",
    "import numpy as np"
   ]
  },
  {
   "cell_type": "code",
   "execution_count": 0,
   "metadata": {
    "colab": {},
    "colab_type": "code",
    "id": "cumqI47Fa7z-"
   },
   "outputs": [],
   "source": [
    "# Activities are the class labels\n",
    "# It is a 6 class classification\n",
    "ACTIVITIES = {\n",
    "    0: 'WALKING',\n",
    "    1: 'WALKING_UPSTAIRS',\n",
    "    2: 'WALKING_DOWNSTAIRS',\n",
    "    3: 'SITTING',\n",
    "    4: 'STANDING',\n",
    "    5: 'LAYING',\n",
    "}\n",
    "\n",
    "# Utility function to print the confusion matrix\n",
    "def confusion_matrix(Y_true, Y_pred):\n",
    "    Y_true = pd.Series([ACTIVITIES[y] for y in np.argmax(Y_true, axis=1)])\n",
    "    Y_pred = pd.Series([ACTIVITIES[y] for y in np.argmax(Y_pred, axis=1)])\n",
    "\n",
    "    return pd.crosstab(Y_true, Y_pred, rownames=['True'], colnames=['Pred'])"
   ]
  },
  {
   "cell_type": "markdown",
   "metadata": {
    "colab_type": "text",
    "id": "FwVU6nova70D"
   },
   "source": [
    "### Data directory"
   ]
  },
  {
   "cell_type": "code",
   "execution_count": 0,
   "metadata": {
    "colab": {},
    "colab_type": "code",
    "id": "ovNsurLTa70E"
   },
   "outputs": [],
   "source": [
    "# Data directory\n",
    "DATADIR = 'UCI_HAR_Dataset'"
   ]
  },
  {
   "cell_type": "code",
   "execution_count": 0,
   "metadata": {
    "colab": {},
    "colab_type": "code",
    "id": "DSl4iFDUa70J"
   },
   "outputs": [],
   "source": [
    "# Raw data signals\n",
    "# Signals are from Accelerometer and Gyroscope\n",
    "# The signals are in x,y,z directions\n",
    "# Sensor signals are filtered to have only body acceleration\n",
    "# excluding the acceleration due to gravity\n",
    "# Triaxial acceleration from the accelerometer is total acceleration\n",
    "SIGNALS = [\n",
    "    \"body_acc_x\",\n",
    "    \"body_acc_y\",\n",
    "    \"body_acc_z\",\n",
    "    \"body_gyro_x\",\n",
    "    \"body_gyro_y\",\n",
    "    \"body_gyro_z\",\n",
    "    \"total_acc_x\",\n",
    "    \"total_acc_y\",\n",
    "    \"total_acc_z\"\n",
    "]"
   ]
  },
  {
   "cell_type": "code",
   "execution_count": 0,
   "metadata": {
    "colab": {},
    "colab_type": "code",
    "id": "IUlh-Bjda70N"
   },
   "outputs": [],
   "source": [
    "# Utility function to read the data from csv file\n",
    "def _read_csv(filename):\n",
    "    return pd.read_csv(filename, delim_whitespace=True, header=None)\n",
    "\n",
    "# Utility function to load the load\n",
    "def load_signals(subset):\n",
    "    signals_data = []\n",
    "\n",
    "    for signal in SIGNALS:\n",
    "        filename = f'/content/drive/My Drive/HumanActivityrecognition/HAR/UCI_HAR_Dataset/{subset}/Inertial Signals/{signal}_{subset}.txt'\n",
    "        signals_data.append(\n",
    "            _read_csv(filename).as_matrix()\n",
    "        ) \n",
    "\n",
    "    # Transpose is used to change the dimensionality of the output,\n",
    "    # aggregating the signals by combination of sample/timestep.\n",
    "    # Resultant shape is (7352 train/2947 test samples, 128 timesteps, 9 signals)\n",
    "    return np.transpose(signals_data, (1, 2, 0))"
   ]
  },
  {
   "cell_type": "code",
   "execution_count": 0,
   "metadata": {
    "colab": {},
    "colab_type": "code",
    "id": "dtlx9H5ra70R"
   },
   "outputs": [],
   "source": [
    "\n",
    "def load_y(subset):\n",
    "    \"\"\"\n",
    "    The objective that we are trying to predict is a integer, from 1 to 6,\n",
    "    that represents a human activity. We return a binary representation of \n",
    "    every sample objective as a 6 bits vector using One Hot Encoding\n",
    "    (https://pandas.pydata.org/pandas-docs/stable/generated/pandas.get_dummies.html)\n",
    "    \"\"\"\n",
    "    filename = f'/content/drive/My Drive/HumanActivityrecognition/HAR/UCI_HAR_Dataset/{subset}/y_{subset}.txt'\n",
    "    y = _read_csv(filename)[0]\n",
    "\n",
    "    return pd.get_dummies(y).as_matrix()"
   ]
  },
  {
   "cell_type": "code",
   "execution_count": 0,
   "metadata": {
    "colab": {},
    "colab_type": "code",
    "id": "oUIv0G4za70V"
   },
   "outputs": [],
   "source": [
    "def load_data():\n",
    "    \"\"\"\n",
    "    Obtain the dataset from multiple files.\n",
    "    Returns: X_train, X_test, y_train, y_test\n",
    "    \"\"\"\n",
    "    X_train, X_test = load_signals('train'), load_signals('test')\n",
    "    y_train, y_test = load_y('train'), load_y('test')\n",
    "\n",
    "    return X_train, X_test, y_train, y_test"
   ]
  },
  {
   "cell_type": "code",
   "execution_count": 0,
   "metadata": {
    "colab": {},
    "colab_type": "code",
    "id": "8pqW9Zx3a70a"
   },
   "outputs": [],
   "source": [
    "# Importing tensorflow\n",
    "np.random.seed(42)\n",
    "import tensorflow as tf\n",
    "tf.set_random_seed(42)"
   ]
  },
  {
   "cell_type": "code",
   "execution_count": 0,
   "metadata": {
    "colab": {},
    "colab_type": "code",
    "id": "NGIEMKFXa70g"
   },
   "outputs": [],
   "source": [
    "# Configuring a session\n",
    "session_conf = tf.ConfigProto(\n",
    "    intra_op_parallelism_threads=1,\n",
    "    inter_op_parallelism_threads=1\n",
    ")"
   ]
  },
  {
   "cell_type": "code",
   "execution_count": 0,
   "metadata": {
    "colab": {},
    "colab_type": "code",
    "id": "ed3fFNBna70k"
   },
   "outputs": [],
   "source": [
    "# Import Keras\n",
    "from keras import backend as K\n",
    "sess = tf.Session(graph=tf.get_default_graph(), config=session_conf)\n",
    "K.set_session(sess)"
   ]
  },
  {
   "cell_type": "code",
   "execution_count": 0,
   "metadata": {
    "colab": {},
    "colab_type": "code",
    "id": "V0-UVpCLa70o"
   },
   "outputs": [],
   "source": [
    "# Importing libraries\n",
    "from keras.models import Sequential\n",
    "from keras.layers import LSTM\n",
    "from keras.layers.core import Dense, Dropout"
   ]
  },
  {
   "cell_type": "code",
   "execution_count": 0,
   "metadata": {
    "colab": {},
    "colab_type": "code",
    "id": "8B_pFUc3a70t"
   },
   "outputs": [],
   "source": [
    "# Initializing parameters\n",
    "epochs = 30\n",
    "batch_size = 16\n",
    "n_hidden = 32"
   ]
  },
  {
   "cell_type": "code",
   "execution_count": 0,
   "metadata": {
    "colab": {},
    "colab_type": "code",
    "id": "EhJ2S4vja70x"
   },
   "outputs": [],
   "source": [
    "# Utility function to count the number of classes\n",
    "def _count_classes(y):\n",
    "    return len(set([tuple(category) for category in y]))"
   ]
  },
  {
   "cell_type": "code",
   "execution_count": 35,
   "metadata": {
    "colab": {
     "base_uri": "https://localhost:8080/",
     "height": 85
    },
    "colab_type": "code",
    "id": "hf9rWPGya702",
    "outputId": "c81c1463-ed23-4e21-a546-fbf54e86b261"
   },
   "outputs": [
    {
     "name": "stderr",
     "output_type": "stream",
     "text": [
      "/usr/local/lib/python3.6/dist-packages/ipykernel_launcher.py:11: FutureWarning: Method .as_matrix will be removed in a future version. Use .values instead.\n",
      "  # This is added back by InteractiveShellApp.init_path()\n",
      "/usr/local/lib/python3.6/dist-packages/ipykernel_launcher.py:12: FutureWarning: Method .as_matrix will be removed in a future version. Use .values instead.\n",
      "  if sys.path[0] == '':\n"
     ]
    }
   ],
   "source": [
    "# Loading the train and test data\n",
    "X_train, X_test, Y_train, Y_test = load_data()"
   ]
  },
  {
   "cell_type": "code",
   "execution_count": 36,
   "metadata": {
    "colab": {
     "base_uri": "https://localhost:8080/",
     "height": 68
    },
    "colab_type": "code",
    "id": "qToCMMvDa706",
    "outputId": "6836ee0a-db44-41d0-b13d-59d9bb6f4a19"
   },
   "outputs": [
    {
     "name": "stdout",
     "output_type": "stream",
     "text": [
      "128\n",
      "9\n",
      "7352\n"
     ]
    }
   ],
   "source": [
    "timesteps = len(X_train[0])\n",
    "input_dim = len(X_train[0][0])\n",
    "n_classes = _count_classes(Y_train)\n",
    "\n",
    "print(timesteps)\n",
    "print(input_dim)\n",
    "print(len(X_train))"
   ]
  },
  {
   "cell_type": "markdown",
   "metadata": {
    "colab_type": "text",
    "id": "qpzQ0uDea70-"
   },
   "source": [
    "### Model :: Defining the Architecture of LSTM(32) + Dropout(0.5) + rmsprop + sigmoid"
   ]
  },
  {
   "cell_type": "code",
   "execution_count": 19,
   "metadata": {
    "colab": {
     "base_uri": "https://localhost:8080/",
     "height": 428
    },
    "colab_type": "code",
    "id": "IT3J2GKra71A",
    "outputId": "9031d0d3-1248-4960-df24-ad03e0508ea4"
   },
   "outputs": [
    {
     "name": "stdout",
     "output_type": "stream",
     "text": [
      "WARNING:tensorflow:From /usr/local/lib/python3.6/dist-packages/keras/backend/tensorflow_backend.py:541: The name tf.placeholder is deprecated. Please use tf.compat.v1.placeholder instead.\n",
      "\n",
      "WARNING:tensorflow:From /usr/local/lib/python3.6/dist-packages/keras/backend/tensorflow_backend.py:4432: The name tf.random_uniform is deprecated. Please use tf.random.uniform instead.\n",
      "\n",
      "WARNING:tensorflow:From /usr/local/lib/python3.6/dist-packages/keras/backend/tensorflow_backend.py:148: The name tf.placeholder_with_default is deprecated. Please use tf.compat.v1.placeholder_with_default instead.\n",
      "\n",
      "WARNING:tensorflow:From /usr/local/lib/python3.6/dist-packages/keras/backend/tensorflow_backend.py:3733: calling dropout (from tensorflow.python.ops.nn_ops) with keep_prob is deprecated and will be removed in a future version.\n",
      "Instructions for updating:\n",
      "Please use `rate` instead of `keep_prob`. Rate should be set to `rate = 1 - keep_prob`.\n",
      "Model: \"sequential_1\"\n",
      "_________________________________________________________________\n",
      "Layer (type)                 Output Shape              Param #   \n",
      "=================================================================\n",
      "lstm_1 (LSTM)                (None, 32)                5376      \n",
      "_________________________________________________________________\n",
      "dropout_1 (Dropout)          (None, 32)                0         \n",
      "_________________________________________________________________\n",
      "dense_1 (Dense)              (None, 6)                 198       \n",
      "=================================================================\n",
      "Total params: 5,574\n",
      "Trainable params: 5,574\n",
      "Non-trainable params: 0\n",
      "_________________________________________________________________\n"
     ]
    }
   ],
   "source": [
    "# Initiliazing the sequential model\n",
    "model = Sequential()\n",
    "# Configuring the parameters\n",
    "model.add(LSTM(n_hidden, input_shape=(timesteps, input_dim)))\n",
    "# Adding a dropout layer\n",
    "model.add(Dropout(0.5))\n",
    "# Adding a dense output layer with sigmoid activation\n",
    "model.add(Dense(n_classes, activation='sigmoid'))\n",
    "model.summary()"
   ]
  },
  {
   "cell_type": "code",
   "execution_count": 20,
   "metadata": {
    "colab": {
     "base_uri": "https://localhost:8080/",
     "height": 105
    },
    "colab_type": "code",
    "id": "jDtfe1xka71E",
    "outputId": "4ceedaf2-ae29-4b2f-e94b-bc7377c4ed1d"
   },
   "outputs": [
    {
     "name": "stdout",
     "output_type": "stream",
     "text": [
      "WARNING:tensorflow:From /usr/local/lib/python3.6/dist-packages/keras/optimizers.py:793: The name tf.train.Optimizer is deprecated. Please use tf.compat.v1.train.Optimizer instead.\n",
      "\n",
      "WARNING:tensorflow:From /usr/local/lib/python3.6/dist-packages/keras/backend/tensorflow_backend.py:3576: The name tf.log is deprecated. Please use tf.math.log instead.\n",
      "\n"
     ]
    }
   ],
   "source": [
    "# Compiling the model\n",
    "model.compile(loss='categorical_crossentropy',\n",
    "              optimizer='rmsprop',\n",
    "              metrics=['accuracy'])"
   ]
  },
  {
   "cell_type": "code",
   "execution_count": 21,
   "metadata": {
    "colab": {
     "base_uri": "https://localhost:8080/",
     "height": 1000
    },
    "colab_type": "code",
    "id": "JGfkMSgOa71I",
    "outputId": "85b359a5-cd35-460f-baeb-d66c21e4f637"
   },
   "outputs": [
    {
     "name": "stdout",
     "output_type": "stream",
     "text": [
      "WARNING:tensorflow:From /usr/local/lib/python3.6/dist-packages/tensorflow_core/python/ops/math_grad.py:1424: where (from tensorflow.python.ops.array_ops) is deprecated and will be removed in a future version.\n",
      "Instructions for updating:\n",
      "Use tf.where in 2.0, which has the same broadcast rule as np.where\n",
      "WARNING:tensorflow:From /usr/local/lib/python3.6/dist-packages/keras/backend/tensorflow_backend.py:1033: The name tf.assign_add is deprecated. Please use tf.compat.v1.assign_add instead.\n",
      "\n",
      "WARNING:tensorflow:From /usr/local/lib/python3.6/dist-packages/keras/backend/tensorflow_backend.py:1020: The name tf.assign is deprecated. Please use tf.compat.v1.assign instead.\n",
      "\n",
      "Train on 7352 samples, validate on 2947 samples\n",
      "Epoch 1/30\n",
      "WARNING:tensorflow:From /usr/local/lib/python3.6/dist-packages/keras/backend/tensorflow_backend.py:190: The name tf.get_default_session is deprecated. Please use tf.compat.v1.get_default_session instead.\n",
      "\n",
      "WARNING:tensorflow:From /usr/local/lib/python3.6/dist-packages/keras/backend/tensorflow_backend.py:207: The name tf.global_variables is deprecated. Please use tf.compat.v1.global_variables instead.\n",
      "\n",
      "WARNING:tensorflow:From /usr/local/lib/python3.6/dist-packages/keras/backend/tensorflow_backend.py:216: The name tf.is_variable_initialized is deprecated. Please use tf.compat.v1.is_variable_initialized instead.\n",
      "\n",
      "WARNING:tensorflow:From /usr/local/lib/python3.6/dist-packages/keras/backend/tensorflow_backend.py:223: The name tf.variables_initializer is deprecated. Please use tf.compat.v1.variables_initializer instead.\n",
      "\n",
      "7352/7352 [==============================] - 36s 5ms/step - loss: 1.3117 - acc: 0.4410 - val_loss: 1.1254 - val_acc: 0.4730\n",
      "Epoch 2/30\n",
      "7352/7352 [==============================] - 35s 5ms/step - loss: 0.9697 - acc: 0.5919 - val_loss: 0.8992 - val_acc: 0.5931\n",
      "Epoch 3/30\n",
      "7352/7352 [==============================] - 35s 5ms/step - loss: 0.7834 - acc: 0.6532 - val_loss: 0.7576 - val_acc: 0.6159\n",
      "Epoch 4/30\n",
      "7352/7352 [==============================] - 35s 5ms/step - loss: 0.6817 - acc: 0.6678 - val_loss: 0.6802 - val_acc: 0.6210\n",
      "Epoch 5/30\n",
      "7352/7352 [==============================] - 35s 5ms/step - loss: 0.6346 - acc: 0.6902 - val_loss: 0.6976 - val_acc: 0.6722\n",
      "Epoch 6/30\n",
      "7352/7352 [==============================] - 35s 5ms/step - loss: 0.6127 - acc: 0.7087 - val_loss: 0.7093 - val_acc: 0.7041\n",
      "Epoch 7/30\n",
      "7352/7352 [==============================] - 36s 5ms/step - loss: 0.5647 - acc: 0.7561 - val_loss: 0.6837 - val_acc: 0.7475\n",
      "Epoch 8/30\n",
      "7352/7352 [==============================] - 35s 5ms/step - loss: 0.5169 - acc: 0.7837 - val_loss: 0.6575 - val_acc: 0.7370\n",
      "Epoch 9/30\n",
      "7352/7352 [==============================] - 35s 5ms/step - loss: 0.4744 - acc: 0.7953 - val_loss: 0.6772 - val_acc: 0.7435\n",
      "Epoch 10/30\n",
      "7352/7352 [==============================] - 35s 5ms/step - loss: 0.4525 - acc: 0.8051 - val_loss: 0.6664 - val_acc: 0.7075\n",
      "Epoch 11/30\n",
      "7352/7352 [==============================] - 35s 5ms/step - loss: 0.4324 - acc: 0.8275 - val_loss: 0.6367 - val_acc: 0.7900\n",
      "Epoch 12/30\n",
      "7352/7352 [==============================] - 34s 5ms/step - loss: 0.3932 - acc: 0.8520 - val_loss: 0.5087 - val_acc: 0.8656\n",
      "Epoch 13/30\n",
      "7352/7352 [==============================] - 35s 5ms/step - loss: 0.3484 - acc: 0.8913 - val_loss: 0.4076 - val_acc: 0.8799\n",
      "Epoch 14/30\n",
      "7352/7352 [==============================] - 35s 5ms/step - loss: 0.3086 - acc: 0.9116 - val_loss: 0.4920 - val_acc: 0.8680\n",
      "Epoch 15/30\n",
      "7352/7352 [==============================] - 35s 5ms/step - loss: 0.2776 - acc: 0.9252 - val_loss: 0.9069 - val_acc: 0.7998\n",
      "Epoch 16/30\n",
      "7352/7352 [==============================] - 35s 5ms/step - loss: 0.2680 - acc: 0.9229 - val_loss: 0.4340 - val_acc: 0.8724\n",
      "Epoch 17/30\n",
      "7352/7352 [==============================] - 35s 5ms/step - loss: 0.2403 - acc: 0.9300 - val_loss: 0.4533 - val_acc: 0.8894\n",
      "Epoch 18/30\n",
      "7352/7352 [==============================] - 35s 5ms/step - loss: 0.2587 - acc: 0.9236 - val_loss: 0.4504 - val_acc: 0.8968\n",
      "Epoch 19/30\n",
      "7352/7352 [==============================] - 34s 5ms/step - loss: 0.1937 - acc: 0.9418 - val_loss: 0.5122 - val_acc: 0.8795\n",
      "Epoch 20/30\n",
      "7352/7352 [==============================] - 35s 5ms/step - loss: 0.1992 - acc: 0.9378 - val_loss: 0.4035 - val_acc: 0.8931\n",
      "Epoch 21/30\n",
      "7352/7352 [==============================] - 35s 5ms/step - loss: 0.1899 - acc: 0.9402 - val_loss: 0.4522 - val_acc: 0.8958\n",
      "Epoch 22/30\n",
      "7352/7352 [==============================] - 35s 5ms/step - loss: 0.2051 - acc: 0.9382 - val_loss: 0.5021 - val_acc: 0.8894\n",
      "Epoch 23/30\n",
      "7352/7352 [==============================] - 35s 5ms/step - loss: 0.1791 - acc: 0.9404 - val_loss: 0.4781 - val_acc: 0.8951\n",
      "Epoch 24/30\n",
      "7352/7352 [==============================] - 35s 5ms/step - loss: 0.1746 - acc: 0.9456 - val_loss: 0.4376 - val_acc: 0.8989\n",
      "Epoch 25/30\n",
      "7352/7352 [==============================] - 35s 5ms/step - loss: 0.1961 - acc: 0.9384 - val_loss: 0.4530 - val_acc: 0.8880\n",
      "Epoch 26/30\n",
      "7352/7352 [==============================] - 36s 5ms/step - loss: 0.1802 - acc: 0.9452 - val_loss: 0.4403 - val_acc: 0.8951\n",
      "Epoch 27/30\n",
      "7352/7352 [==============================] - 35s 5ms/step - loss: 0.1604 - acc: 0.9452 - val_loss: 0.4152 - val_acc: 0.8989\n",
      "Epoch 28/30\n",
      "7352/7352 [==============================] - 35s 5ms/step - loss: 0.1552 - acc: 0.9455 - val_loss: 0.4937 - val_acc: 0.8948\n",
      "Epoch 29/30\n",
      "7352/7352 [==============================] - 35s 5ms/step - loss: 0.1627 - acc: 0.9472 - val_loss: 0.5597 - val_acc: 0.8904\n",
      "Epoch 30/30\n",
      "7352/7352 [==============================] - 35s 5ms/step - loss: 0.1748 - acc: 0.9433 - val_loss: 0.5089 - val_acc: 0.8958\n"
     ]
    },
    {
     "data": {
      "text/plain": [
       "<keras.callbacks.History at 0x7f182097bf28>"
      ]
     },
     "execution_count": 21,
     "metadata": {
      "tags": []
     },
     "output_type": "execute_result"
    }
   ],
   "source": [
    "# Training the model\n",
    "model.fit(X_train,\n",
    "          Y_train,\n",
    "          batch_size=batch_size,\n",
    "          validation_data=(X_test, Y_test),\n",
    "          epochs=epochs)"
   ]
  },
  {
   "cell_type": "code",
   "execution_count": 22,
   "metadata": {
    "colab": {
     "base_uri": "https://localhost:8080/",
     "height": 187
    },
    "colab_type": "code",
    "id": "mbzcUbVsa71P",
    "outputId": "67a4115c-dc1c-4355-bffb-d26f1dc377c4"
   },
   "outputs": [
    {
     "name": "stdout",
     "output_type": "stream",
     "text": [
      "Pred                LAYING  SITTING  ...  WALKING_DOWNSTAIRS  WALKING_UPSTAIRS\n",
      "True                                 ...                                      \n",
      "LAYING                 510        0  ...                   0                26\n",
      "SITTING                  0      376  ...                   2                 1\n",
      "STANDING                 0       82  ...                   0                 1\n",
      "WALKING                  0        0  ...                  28                 5\n",
      "WALKING_DOWNSTAIRS       0        0  ...                 412                 8\n",
      "WALKING_UPSTAIRS         0        0  ...                  24               430\n",
      "\n",
      "[6 rows x 6 columns]\n"
     ]
    }
   ],
   "source": [
    "# Confusion Matrix\n",
    "print(confusion_matrix(Y_test, model.predict(X_test)))"
   ]
  },
  {
   "cell_type": "code",
   "execution_count": 23,
   "metadata": {
    "colab": {
     "base_uri": "https://localhost:8080/",
     "height": 34
    },
    "colab_type": "code",
    "id": "xUT5HGVea71Y",
    "outputId": "a18e4165-bd61-4bbd-8b29-7128c355efd4"
   },
   "outputs": [
    {
     "name": "stdout",
     "output_type": "stream",
     "text": [
      "2947/2947 [==============================] - 1s 367us/step\n"
     ]
    }
   ],
   "source": [
    "score = model.evaluate(X_test, Y_test)"
   ]
  },
  {
   "cell_type": "code",
   "execution_count": 24,
   "metadata": {
    "colab": {
     "base_uri": "https://localhost:8080/",
     "height": 34
    },
    "colab_type": "code",
    "id": "oqQIjI8ra71e",
    "outputId": "ce45b872-5bfb-41a5-c0d5-9ee2d0d237c5"
   },
   "outputs": [
    {
     "data": {
      "text/plain": [
       "[0.5088777291587507, 0.8958262639972854]"
      ]
     },
     "execution_count": 24,
     "metadata": {
      "tags": []
     },
     "output_type": "execute_result"
    }
   ],
   "source": [
    "score"
   ]
  },
  {
   "cell_type": "markdown",
   "metadata": {
    "colab_type": "text",
    "id": "EQBE42lka71i"
   },
   "source": [
    "- With a simple 2 layer architecture we got 90.09% accuracy and a loss of 0.30\n",
    "- We can further imporve the performace with Hyperparameter tuning"
   ]
  },
  {
   "cell_type": "markdown",
   "metadata": {
    "colab_type": "text",
    "id": "Vk4fneg5qMbO"
   },
   "source": [
    "### Model1:: Architecture of LSTM(32) + Dropout(0.5) + rmsprop + sigmoid"
   ]
  },
  {
   "cell_type": "code",
   "execution_count": 25,
   "metadata": {
    "colab": {
     "base_uri": "https://localhost:8080/",
     "height": 1000
    },
    "colab_type": "code",
    "id": "c5DWpuuPfvE5",
    "outputId": "8284a9ce-f636-417d-f754-854282d42c8e"
   },
   "outputs": [
    {
     "name": "stdout",
     "output_type": "stream",
     "text": [
      "Model: \"sequential_2\"\n",
      "_________________________________________________________________\n",
      "Layer (type)                 Output Shape              Param #   \n",
      "=================================================================\n",
      "lstm_2 (LSTM)                (None, 32)                5376      \n",
      "_________________________________________________________________\n",
      "dropout_2 (Dropout)          (None, 32)                0         \n",
      "_________________________________________________________________\n",
      "dense_2 (Dense)              (None, 6)                 198       \n",
      "=================================================================\n",
      "Total params: 5,574\n",
      "Trainable params: 5,574\n",
      "Non-trainable params: 0\n",
      "_________________________________________________________________\n",
      "Train on 7352 samples, validate on 2947 samples\n",
      "Epoch 1/30\n",
      "7352/7352 [==============================] - 37s 5ms/step - loss: 1.3362 - acc: 0.4445 - val_loss: 1.2370 - val_acc: 0.5131\n",
      "Epoch 2/30\n",
      "7352/7352 [==============================] - 35s 5ms/step - loss: 1.0587 - acc: 0.5453 - val_loss: 1.0204 - val_acc: 0.5080\n",
      "Epoch 3/30\n",
      "7352/7352 [==============================] - 36s 5ms/step - loss: 0.8865 - acc: 0.5990 - val_loss: 1.0198 - val_acc: 0.5860\n",
      "Epoch 4/30\n",
      "7352/7352 [==============================] - 35s 5ms/step - loss: 0.8135 - acc: 0.6125 - val_loss: 0.9102 - val_acc: 0.6033\n",
      "Epoch 5/30\n",
      "7352/7352 [==============================] - 36s 5ms/step - loss: 0.7604 - acc: 0.6496 - val_loss: 0.8154 - val_acc: 0.6393\n",
      "Epoch 6/30\n",
      "7352/7352 [==============================] - 35s 5ms/step - loss: 0.7038 - acc: 0.6790 - val_loss: 0.7573 - val_acc: 0.7170\n",
      "Epoch 7/30\n",
      "7352/7352 [==============================] - 36s 5ms/step - loss: 0.6713 - acc: 0.7021 - val_loss: 0.8712 - val_acc: 0.6610\n",
      "Epoch 8/30\n",
      "7352/7352 [==============================] - 36s 5ms/step - loss: 0.6434 - acc: 0.7469 - val_loss: 0.8214 - val_acc: 0.7340\n",
      "Epoch 9/30\n",
      "7352/7352 [==============================] - 35s 5ms/step - loss: 0.5610 - acc: 0.7980 - val_loss: 0.7142 - val_acc: 0.7553\n",
      "Epoch 10/30\n",
      "7352/7352 [==============================] - 35s 5ms/step - loss: 0.4465 - acc: 0.8572 - val_loss: 0.6353 - val_acc: 0.8144\n",
      "Epoch 11/30\n",
      "7352/7352 [==============================] - 35s 5ms/step - loss: 0.3947 - acc: 0.8799 - val_loss: 0.6083 - val_acc: 0.8090\n",
      "Epoch 12/30\n",
      "7352/7352 [==============================] - 36s 5ms/step - loss: 0.3477 - acc: 0.8965 - val_loss: 0.6552 - val_acc: 0.8232\n",
      "Epoch 13/30\n",
      "7352/7352 [==============================] - 35s 5ms/step - loss: 0.2979 - acc: 0.9093 - val_loss: 0.4861 - val_acc: 0.8666\n",
      "Epoch 14/30\n",
      "7352/7352 [==============================] - 35s 5ms/step - loss: 0.3046 - acc: 0.9087 - val_loss: 0.5533 - val_acc: 0.8510\n",
      "Epoch 15/30\n",
      "7352/7352 [==============================] - 35s 5ms/step - loss: 0.2699 - acc: 0.9180 - val_loss: 0.4373 - val_acc: 0.8860\n",
      "Epoch 16/30\n",
      "7352/7352 [==============================] - 35s 5ms/step - loss: 0.2486 - acc: 0.9253 - val_loss: 0.4164 - val_acc: 0.8850\n",
      "Epoch 17/30\n",
      "7352/7352 [==============================] - 35s 5ms/step - loss: 0.2335 - acc: 0.9286 - val_loss: 0.7569 - val_acc: 0.8219\n",
      "Epoch 18/30\n",
      "7352/7352 [==============================] - 35s 5ms/step - loss: 0.2339 - acc: 0.9266 - val_loss: 0.4528 - val_acc: 0.8744\n",
      "Epoch 19/30\n",
      "7352/7352 [==============================] - 35s 5ms/step - loss: 0.2290 - acc: 0.9261 - val_loss: 0.3914 - val_acc: 0.8924\n",
      "Epoch 20/30\n",
      "7352/7352 [==============================] - 34s 5ms/step - loss: 0.2229 - acc: 0.9304 - val_loss: 0.4858 - val_acc: 0.8823\n",
      "Epoch 21/30\n",
      "7352/7352 [==============================] - 35s 5ms/step - loss: 0.2012 - acc: 0.9329 - val_loss: 0.3812 - val_acc: 0.8914\n",
      "Epoch 22/30\n",
      "7352/7352 [==============================] - 35s 5ms/step - loss: 0.1896 - acc: 0.9373 - val_loss: 0.4334 - val_acc: 0.8911\n",
      "Epoch 23/30\n",
      "7352/7352 [==============================] - 35s 5ms/step - loss: 0.1898 - acc: 0.9377 - val_loss: 0.4008 - val_acc: 0.8887\n",
      "Epoch 24/30\n",
      "7352/7352 [==============================] - 34s 5ms/step - loss: 0.1890 - acc: 0.9391 - val_loss: 0.4503 - val_acc: 0.8724\n",
      "Epoch 25/30\n",
      "7352/7352 [==============================] - 35s 5ms/step - loss: 0.1855 - acc: 0.9396 - val_loss: 0.3993 - val_acc: 0.8918\n",
      "Epoch 26/30\n",
      "7352/7352 [==============================] - 34s 5ms/step - loss: 0.1810 - acc: 0.9421 - val_loss: 0.3557 - val_acc: 0.9002\n",
      "Epoch 27/30\n",
      "7352/7352 [==============================] - 35s 5ms/step - loss: 0.2109 - acc: 0.9361 - val_loss: 0.5865 - val_acc: 0.8924\n",
      "Epoch 28/30\n",
      "7352/7352 [==============================] - 35s 5ms/step - loss: 0.1622 - acc: 0.9446 - val_loss: 0.3609 - val_acc: 0.9002\n",
      "Epoch 29/30\n",
      "7352/7352 [==============================] - 34s 5ms/step - loss: 0.1613 - acc: 0.9430 - val_loss: 0.4424 - val_acc: 0.8985\n",
      "Epoch 30/30\n",
      "7352/7352 [==============================] - 35s 5ms/step - loss: 0.1648 - acc: 0.9489 - val_loss: 0.3348 - val_acc: 0.9155\n"
     ]
    }
   ],
   "source": [
    "# Initiliazing the sequential model\n",
    "model1 = Sequential()\n",
    "# Configuring the parameters\n",
    "model1.add(LSTM(n_hidden, input_shape=(timesteps, input_dim)))\n",
    "# Adding a dropout layer\n",
    "model1.add(Dropout(0.5))\n",
    "# Adding a dense output layer with sigmoid activation\n",
    "model1.add(Dense(n_classes, activation='sigmoid'))\n",
    "model1.summary()\n",
    "\n",
    "# Compiling the model\n",
    "model1.compile(loss='categorical_crossentropy',optimizer='rmsprop',metrics=['accuracy'])\n",
    "\n",
    "# Training the model\n",
    "history1 = model1.fit(X_train, Y_train, batch_size=batch_size,validation_data=(X_test, Y_test),epochs=epochs)"
   ]
  },
  {
   "cell_type": "code",
   "execution_count": 26,
   "metadata": {
    "colab": {
     "base_uri": "https://localhost:8080/",
     "height": 187
    },
    "colab_type": "code",
    "id": "5xuRpTlfpC6v",
    "outputId": "4926367f-f06d-41b1-8bb8-11062d0cd247"
   },
   "outputs": [
    {
     "name": "stdout",
     "output_type": "stream",
     "text": [
      "Pred                LAYING  SITTING  ...  WALKING_DOWNSTAIRS  WALKING_UPSTAIRS\n",
      "True                                 ...                                      \n",
      "LAYING                 537        0  ...                   0                 0\n",
      "SITTING                  0      380  ...                   0                 3\n",
      "STANDING                 0       59  ...                   0                 0\n",
      "WALKING                  0        0  ...                  14                14\n",
      "WALKING_DOWNSTAIRS       0        0  ...                 413                 3\n",
      "WALKING_UPSTAIRS         0        0  ...                  16               434\n",
      "\n",
      "[6 rows x 6 columns]\n"
     ]
    }
   ],
   "source": [
    "# Confusion Matrix\n",
    "print(confusion_matrix(Y_test, model1.predict(X_test)))"
   ]
  },
  {
   "cell_type": "code",
   "execution_count": 27,
   "metadata": {
    "colab": {
     "base_uri": "https://localhost:8080/",
     "height": 34
    },
    "colab_type": "code",
    "id": "2VVFEV1upOs-",
    "outputId": "cd3cd9d1-dd89-4979-d613-261126feef1a"
   },
   "outputs": [
    {
     "name": "stdout",
     "output_type": "stream",
     "text": [
      "2947/2947 [==============================] - 1s 383us/step\n"
     ]
    }
   ],
   "source": [
    "score1 = model1.evaluate(X_test, Y_test)"
   ]
  },
  {
   "cell_type": "code",
   "execution_count": 28,
   "metadata": {
    "colab": {
     "base_uri": "https://localhost:8080/",
     "height": 34
    },
    "colab_type": "code",
    "id": "qjVbdDZcpOpp",
    "outputId": "a62f4dfd-0457-4575-8fcc-9afe577c4d10"
   },
   "outputs": [
    {
     "data": {
      "text/plain": [
       "[0.33480536445324116, 0.9155072955548015]"
      ]
     },
     "execution_count": 28,
     "metadata": {
      "tags": []
     },
     "output_type": "execute_result"
    }
   ],
   "source": [
    "score1"
   ]
  },
  {
   "cell_type": "markdown",
   "metadata": {
    "colab_type": "text",
    "id": "3lvDaS6qqEBA"
   },
   "source": [
    "### Model2:: Architecture of LSTM(42) + Dropout(0.5) + rmsprop + sigmoid"
   ]
  },
  {
   "cell_type": "code",
   "execution_count": 29,
   "metadata": {
    "colab": {
     "base_uri": "https://localhost:8080/",
     "height": 1000
    },
    "colab_type": "code",
    "id": "ensVFUQWpOm1",
    "outputId": "4c32c231-800f-4fa1-bd36-032cc806fd35"
   },
   "outputs": [
    {
     "name": "stdout",
     "output_type": "stream",
     "text": [
      "Model: \"sequential_3\"\n",
      "_________________________________________________________________\n",
      "Layer (type)                 Output Shape              Param #   \n",
      "=================================================================\n",
      "lstm_3 (LSTM)                (None, 42)                8736      \n",
      "_________________________________________________________________\n",
      "dropout_3 (Dropout)          (None, 42)                0         \n",
      "_________________________________________________________________\n",
      "dense_3 (Dense)              (None, 6)                 258       \n",
      "=================================================================\n",
      "Total params: 8,994\n",
      "Trainable params: 8,994\n",
      "Non-trainable params: 0\n",
      "_________________________________________________________________\n",
      "None\n",
      "Train on 7352 samples, validate on 2947 samples\n",
      "Epoch 1/30\n",
      "7352/7352 [==============================] - 39s 5ms/step - loss: 1.3137 - acc: 0.4222 - val_loss: 1.2687 - val_acc: 0.4136\n",
      "Epoch 2/30\n",
      "7352/7352 [==============================] - 37s 5ms/step - loss: 1.0355 - acc: 0.5498 - val_loss: 1.0039 - val_acc: 0.5416\n",
      "Epoch 3/30\n",
      "7352/7352 [==============================] - 37s 5ms/step - loss: 0.9231 - acc: 0.6034 - val_loss: 0.8401 - val_acc: 0.6345\n",
      "Epoch 4/30\n",
      "7352/7352 [==============================] - 37s 5ms/step - loss: 0.7992 - acc: 0.6453 - val_loss: 0.9690 - val_acc: 0.6495\n",
      "Epoch 5/30\n",
      "7352/7352 [==============================] - 37s 5ms/step - loss: 0.6993 - acc: 0.7014 - val_loss: 0.8239 - val_acc: 0.6922\n",
      "Epoch 6/30\n",
      "7352/7352 [==============================] - 37s 5ms/step - loss: 0.6378 - acc: 0.7333 - val_loss: 0.7043 - val_acc: 0.7509\n",
      "Epoch 7/30\n",
      "7352/7352 [==============================] - 37s 5ms/step - loss: 0.5463 - acc: 0.7994 - val_loss: 0.5985 - val_acc: 0.7974\n",
      "Epoch 8/30\n",
      "7352/7352 [==============================] - 38s 5ms/step - loss: 0.4979 - acc: 0.8319 - val_loss: 0.6876 - val_acc: 0.7822\n",
      "Epoch 9/30\n",
      "7352/7352 [==============================] - 37s 5ms/step - loss: 0.5142 - acc: 0.8229 - val_loss: 0.6982 - val_acc: 0.7828\n",
      "Epoch 10/30\n",
      "7352/7352 [==============================] - 37s 5ms/step - loss: 0.4176 - acc: 0.8653 - val_loss: 0.4709 - val_acc: 0.8354\n",
      "Epoch 11/30\n",
      "7352/7352 [==============================] - 37s 5ms/step - loss: 0.3551 - acc: 0.8925 - val_loss: 0.5235 - val_acc: 0.8354\n",
      "Epoch 12/30\n",
      "7352/7352 [==============================] - 37s 5ms/step - loss: 0.2898 - acc: 0.9154 - val_loss: 0.4995 - val_acc: 0.8588\n",
      "Epoch 13/30\n",
      "7352/7352 [==============================] - 37s 5ms/step - loss: 0.4432 - acc: 0.8730 - val_loss: 0.4778 - val_acc: 0.8303\n",
      "Epoch 14/30\n",
      "7352/7352 [==============================] - 37s 5ms/step - loss: 0.2852 - acc: 0.9117 - val_loss: 0.4824 - val_acc: 0.8717\n",
      "Epoch 15/30\n",
      "7352/7352 [==============================] - 37s 5ms/step - loss: 0.2360 - acc: 0.9279 - val_loss: 0.4126 - val_acc: 0.8778\n",
      "Epoch 16/30\n",
      "7352/7352 [==============================] - 38s 5ms/step - loss: 0.2132 - acc: 0.9359 - val_loss: 0.4838 - val_acc: 0.8649\n",
      "Epoch 17/30\n",
      "7352/7352 [==============================] - 37s 5ms/step - loss: 0.2156 - acc: 0.9347 - val_loss: 0.5602 - val_acc: 0.8605\n",
      "Epoch 18/30\n",
      "7352/7352 [==============================] - 38s 5ms/step - loss: 0.1876 - acc: 0.9399 - val_loss: 0.4132 - val_acc: 0.8826\n",
      "Epoch 19/30\n",
      "7352/7352 [==============================] - 37s 5ms/step - loss: 0.1852 - acc: 0.9377 - val_loss: 0.3586 - val_acc: 0.8877\n",
      "Epoch 20/30\n",
      "7352/7352 [==============================] - 37s 5ms/step - loss: 0.2028 - acc: 0.9389 - val_loss: 0.3264 - val_acc: 0.9016\n",
      "Epoch 21/30\n",
      "7352/7352 [==============================] - 37s 5ms/step - loss: 0.1925 - acc: 0.9418 - val_loss: 0.4438 - val_acc: 0.8989\n",
      "Epoch 22/30\n",
      "7352/7352 [==============================] - 37s 5ms/step - loss: 0.1725 - acc: 0.9437 - val_loss: 0.2788 - val_acc: 0.9087\n",
      "Epoch 23/30\n",
      "7352/7352 [==============================] - 37s 5ms/step - loss: 0.1867 - acc: 0.9355 - val_loss: 0.2854 - val_acc: 0.9006\n",
      "Epoch 24/30\n",
      "7352/7352 [==============================] - 37s 5ms/step - loss: 0.1755 - acc: 0.9391 - val_loss: 0.2862 - val_acc: 0.9135\n",
      "Epoch 25/30\n",
      "7352/7352 [==============================] - 37s 5ms/step - loss: 0.1634 - acc: 0.9427 - val_loss: 0.4857 - val_acc: 0.8843\n",
      "Epoch 26/30\n",
      "7352/7352 [==============================] - 37s 5ms/step - loss: 0.1557 - acc: 0.9446 - val_loss: 0.3935 - val_acc: 0.8945\n",
      "Epoch 27/30\n",
      "7352/7352 [==============================] - 38s 5ms/step - loss: 0.1572 - acc: 0.9498 - val_loss: 0.4415 - val_acc: 0.8945\n",
      "Epoch 28/30\n",
      "7352/7352 [==============================] - 38s 5ms/step - loss: 0.1680 - acc: 0.9464 - val_loss: 0.4496 - val_acc: 0.8996\n",
      "Epoch 29/30\n",
      "7352/7352 [==============================] - 37s 5ms/step - loss: 0.1592 - acc: 0.9463 - val_loss: 0.4654 - val_acc: 0.8860\n",
      "Epoch 30/30\n",
      "7352/7352 [==============================] - 37s 5ms/step - loss: 0.1833 - acc: 0.9437 - val_loss: 0.8907 - val_acc: 0.8493\n"
     ]
    }
   ],
   "source": [
    "# Initiliazing the sequential model\n",
    "model2 = Sequential()\n",
    "# Configuring the parameters\n",
    "model2.add(LSTM(42, input_shape=(timesteps, input_dim)))\n",
    "# Adding a dropout layer\n",
    "model2.add(Dropout(0.5))\n",
    "# Adding a dense output layer with sigmoid activation\n",
    "model2.add(Dense(n_classes, activation='sigmoid'))\n",
    "print(model2.summary())\n",
    "\n",
    "# Compiling the model\n",
    "model2.compile(loss='categorical_crossentropy',optimizer='rmsprop',metrics=['accuracy'])\n",
    "\n",
    "# Training the model\n",
    "history2 = model2.fit(X_train,Y_train,batch_size=batch_size,validation_data=(X_test, Y_test),epochs=epochs)"
   ]
  },
  {
   "cell_type": "code",
   "execution_count": 30,
   "metadata": {
    "colab": {
     "base_uri": "https://localhost:8080/",
     "height": 34
    },
    "colab_type": "code",
    "id": "jKxGzQJ-ql9D",
    "outputId": "43939b1c-6c21-4baf-8e8a-8ac307793b8c"
   },
   "outputs": [
    {
     "name": "stdout",
     "output_type": "stream",
     "text": [
      "2947/2947 [==============================] - 1s 432us/step\n"
     ]
    }
   ],
   "source": [
    "score2 = model2.evaluate(X_test, Y_test)"
   ]
  },
  {
   "cell_type": "code",
   "execution_count": 31,
   "metadata": {
    "colab": {
     "base_uri": "https://localhost:8080/",
     "height": 34
    },
    "colab_type": "code",
    "id": "1LBdqYhNqmLv",
    "outputId": "e964f0e8-c755-439a-ec3d-1ba58e5acff9"
   },
   "outputs": [
    {
     "data": {
      "text/plain": [
       "[0.8907021589124672, 0.8493383101459111]"
      ]
     },
     "execution_count": 31,
     "metadata": {
      "tags": []
     },
     "output_type": "execute_result"
    }
   ],
   "source": [
    "score2"
   ]
  },
  {
   "cell_type": "markdown",
   "metadata": {
    "colab_type": "text",
    "id": "bs46y2KnqoXb"
   },
   "source": [
    "### Model3:: Architecture of LSTM(80) + Dropout(0.25) + adam + sigmoid"
   ]
  },
  {
   "cell_type": "code",
   "execution_count": 32,
   "metadata": {
    "colab": {
     "base_uri": "https://localhost:8080/",
     "height": 272
    },
    "colab_type": "code",
    "id": "pwibAO0eqpDE",
    "outputId": "c1e1e10f-eec5-4bfa-d065-73d962a5166b"
   },
   "outputs": [
    {
     "name": "stdout",
     "output_type": "stream",
     "text": [
      "Model: \"sequential_4\"\n",
      "_________________________________________________________________\n",
      "Layer (type)                 Output Shape              Param #   \n",
      "=================================================================\n",
      "lstm_4 (LSTM)                (None, 80)                28800     \n",
      "_________________________________________________________________\n",
      "dropout_4 (Dropout)          (None, 80)                0         \n",
      "_________________________________________________________________\n",
      "dense_4 (Dense)              (None, 6)                 486       \n",
      "=================================================================\n",
      "Total params: 29,286\n",
      "Trainable params: 29,286\n",
      "Non-trainable params: 0\n",
      "_________________________________________________________________\n",
      "None\n"
     ]
    }
   ],
   "source": [
    "# With One LSTM Layer Model 1  # \n",
    "n_hidden = 80\n",
    "\n",
    "model3 = Sequential()\n",
    "\n",
    "# 1 LSTM layer\n",
    "model3.add(LSTM(n_hidden, input_shape = (timesteps, input_dim)))     # 1 LSTM\n",
    "\n",
    "model3.add(Dropout(0.25))\n",
    "model3.add(Dense(n_classes, activation = 'sigmoid'))\n",
    "model3.compile(loss = 'binary_crossentropy', optimizer = 'adam', metrics = ['accuracy'])\n",
    "print(model3.summary())"
   ]
  },
  {
   "cell_type": "code",
   "execution_count": 33,
   "metadata": {
    "colab": {
     "base_uri": "https://localhost:8080/",
     "height": 1000
    },
    "colab_type": "code",
    "id": "z4-2yL-6qr7o",
    "outputId": "1b83b8f1-8db5-4b6c-dacf-118ad78012b6"
   },
   "outputs": [
    {
     "name": "stdout",
     "output_type": "stream",
     "text": [
      "Train on 7352 samples, validate on 2947 samples\n",
      "Epoch 1/30\n",
      "7352/7352 [==============================] - 20s 3ms/step - loss: 0.4040 - acc: 0.8510 - val_loss: 0.3652 - val_acc: 0.8564\n",
      "Epoch 2/30\n",
      "7352/7352 [==============================] - 18s 2ms/step - loss: 0.3532 - acc: 0.8625 - val_loss: 0.3597 - val_acc: 0.8598\n",
      "Epoch 3/30\n",
      "7352/7352 [==============================] - 18s 2ms/step - loss: 0.3647 - acc: 0.8567 - val_loss: 0.3311 - val_acc: 0.8608\n",
      "Epoch 4/30\n",
      "7352/7352 [==============================] - 18s 2ms/step - loss: 0.3385 - acc: 0.8587 - val_loss: 0.3191 - val_acc: 0.8702\n",
      "Epoch 5/30\n",
      "7352/7352 [==============================] - 18s 2ms/step - loss: 0.3059 - acc: 0.8739 - val_loss: 0.2738 - val_acc: 0.8756\n",
      "Epoch 6/30\n",
      "7352/7352 [==============================] - 18s 2ms/step - loss: 0.2742 - acc: 0.8867 - val_loss: 0.2484 - val_acc: 0.8894\n",
      "Epoch 7/30\n",
      "7352/7352 [==============================] - 18s 2ms/step - loss: 0.2912 - acc: 0.8795 - val_loss: 0.2946 - val_acc: 0.8738\n",
      "Epoch 8/30\n",
      "7352/7352 [==============================] - 18s 2ms/step - loss: 0.2614 - acc: 0.8816 - val_loss: 0.2477 - val_acc: 0.8879\n",
      "Epoch 9/30\n",
      "7352/7352 [==============================] - 18s 2ms/step - loss: 0.2149 - acc: 0.8987 - val_loss: 0.2236 - val_acc: 0.8950\n",
      "Epoch 10/30\n",
      "7352/7352 [==============================] - 18s 2ms/step - loss: 0.1992 - acc: 0.9033 - val_loss: 0.2206 - val_acc: 0.8931\n",
      "Epoch 11/30\n",
      "7352/7352 [==============================] - 17s 2ms/step - loss: 0.1886 - acc: 0.9091 - val_loss: 0.2382 - val_acc: 0.8794\n",
      "Epoch 12/30\n",
      "7352/7352 [==============================] - 18s 2ms/step - loss: 0.2300 - acc: 0.8969 - val_loss: 0.2463 - val_acc: 0.8854\n",
      "Epoch 13/30\n",
      "7352/7352 [==============================] - 17s 2ms/step - loss: 0.1996 - acc: 0.9064 - val_loss: 0.2107 - val_acc: 0.9119\n",
      "Epoch 14/30\n",
      "7352/7352 [==============================] - 18s 2ms/step - loss: 0.1500 - acc: 0.9381 - val_loss: 0.1855 - val_acc: 0.9243\n",
      "Epoch 15/30\n",
      "7352/7352 [==============================] - 17s 2ms/step - loss: 0.1398 - acc: 0.9454 - val_loss: 0.1801 - val_acc: 0.9334\n",
      "Epoch 16/30\n",
      "7352/7352 [==============================] - 18s 2ms/step - loss: 0.1314 - acc: 0.9518 - val_loss: 0.1750 - val_acc: 0.9311\n",
      "Epoch 17/30\n",
      "7352/7352 [==============================] - 17s 2ms/step - loss: 0.1084 - acc: 0.9617 - val_loss: 0.1380 - val_acc: 0.9495\n",
      "Epoch 18/30\n",
      "7352/7352 [==============================] - 17s 2ms/step - loss: 0.0795 - acc: 0.9739 - val_loss: 0.1206 - val_acc: 0.9585\n",
      "Epoch 19/30\n",
      "7352/7352 [==============================] - 17s 2ms/step - loss: 0.1009 - acc: 0.9634 - val_loss: 0.1540 - val_acc: 0.9527\n",
      "Epoch 20/30\n",
      "7352/7352 [==============================] - 17s 2ms/step - loss: 0.2128 - acc: 0.9246 - val_loss: 0.1639 - val_acc: 0.9453\n",
      "Epoch 21/30\n",
      "7352/7352 [==============================] - 18s 2ms/step - loss: 0.1458 - acc: 0.9471 - val_loss: 0.1596 - val_acc: 0.9494\n",
      "Epoch 22/30\n",
      "7352/7352 [==============================] - 18s 2ms/step - loss: 0.1169 - acc: 0.9602 - val_loss: 0.1271 - val_acc: 0.9566\n",
      "Epoch 23/30\n",
      "7352/7352 [==============================] - 18s 2ms/step - loss: 0.0853 - acc: 0.9730 - val_loss: 0.1216 - val_acc: 0.9591\n",
      "Epoch 24/30\n",
      "7352/7352 [==============================] - 17s 2ms/step - loss: 0.0954 - acc: 0.9663 - val_loss: 0.1185 - val_acc: 0.9603\n",
      "Epoch 25/30\n",
      "7352/7352 [==============================] - 18s 2ms/step - loss: 0.0889 - acc: 0.9685 - val_loss: 0.1252 - val_acc: 0.9544\n",
      "Epoch 26/30\n",
      "7352/7352 [==============================] - 17s 2ms/step - loss: 0.0800 - acc: 0.9722 - val_loss: 0.1241 - val_acc: 0.9607\n",
      "Epoch 27/30\n",
      "7352/7352 [==============================] - 18s 2ms/step - loss: 0.0635 - acc: 0.9782 - val_loss: 0.1190 - val_acc: 0.9640\n",
      "Epoch 28/30\n",
      "7352/7352 [==============================] - 18s 2ms/step - loss: 0.0670 - acc: 0.9772 - val_loss: 0.1224 - val_acc: 0.9632\n",
      "Epoch 29/30\n",
      "7352/7352 [==============================] - 18s 2ms/step - loss: 0.0575 - acc: 0.9796 - val_loss: 0.1246 - val_acc: 0.9597\n",
      "Epoch 30/30\n",
      "7352/7352 [==============================] - 18s 2ms/step - loss: 0.0655 - acc: 0.9752 - val_loss: 0.1164 - val_acc: 0.9629\n"
     ]
    }
   ],
   "source": [
    "# Training the model\n",
    "history3 = model3.fit(X_train,\n",
    "          Y_train,\n",
    "          batch_size=64,\n",
    "          validation_data=(X_test, Y_test),\n",
    "          epochs=epochs)"
   ]
  },
  {
   "cell_type": "code",
   "execution_count": 34,
   "metadata": {
    "colab": {
     "base_uri": "https://localhost:8080/",
     "height": 51
    },
    "colab_type": "code",
    "id": "0_iGs_KwqsCp",
    "outputId": "ac05ca05-c25d-490e-bdb8-2fb4ee4a541a"
   },
   "outputs": [
    {
     "name": "stdout",
     "output_type": "stream",
     "text": [
      "2947/2947 [==============================] - 2s 570us/step\n",
      "[0.5088777291587507, 0.8958262639972854]\n"
     ]
    }
   ],
   "source": [
    "score3 = model3.evaluate(X_test, Y_test)\n",
    "print(score)"
   ]
  },
  {
   "cell_type": "code",
   "execution_count": 35,
   "metadata": {
    "colab": {
     "base_uri": "https://localhost:8080/",
     "height": 34
    },
    "colab_type": "code",
    "id": "uNFLmQ5hqsAd",
    "outputId": "70bcb96d-c6e0-40c8-a8c5-560400333791"
   },
   "outputs": [
    {
     "data": {
      "text/plain": [
       "[0.11640074694648317, 0.9629001287350948]"
      ]
     },
     "execution_count": 35,
     "metadata": {
      "tags": []
     },
     "output_type": "execute_result"
    }
   ],
   "source": [
    "score3"
   ]
  },
  {
   "cell_type": "code",
   "execution_count": 36,
   "metadata": {
    "colab": {
     "base_uri": "https://localhost:8080/",
     "height": 187
    },
    "colab_type": "code",
    "id": "x4RFPA5WrrVp",
    "outputId": "0c4fab56-c643-46a2-e049-e9fee4375ba9"
   },
   "outputs": [
    {
     "name": "stdout",
     "output_type": "stream",
     "text": [
      "Pred                LAYING  SITTING  ...  WALKING_DOWNSTAIRS  WALKING_UPSTAIRS\n",
      "True                                 ...                                      \n",
      "LAYING                 510        0  ...                   0                27\n",
      "SITTING                  0      371  ...                   2                 7\n",
      "STANDING                 0       81  ...                   0                12\n",
      "WALKING                  0        0  ...                   6                 4\n",
      "WALKING_DOWNSTAIRS       0        0  ...                 416                 1\n",
      "WALKING_UPSTAIRS         0        0  ...                   9               405\n",
      "\n",
      "[6 rows x 6 columns]\n"
     ]
    }
   ],
   "source": [
    "# Confusion Matrix\n",
    "print(confusion_matrix(Y_test, model3.predict(X_test)))"
   ]
  },
  {
   "cell_type": "markdown",
   "metadata": {
    "colab_type": "text",
    "id": "IKBDa7izrSUG"
   },
   "source": [
    "### Model4 :: Architecture of LSTM(80) + Dropout(0.25) + rmsprop + sigmoid"
   ]
  },
  {
   "cell_type": "code",
   "execution_count": 37,
   "metadata": {
    "colab": {
     "base_uri": "https://localhost:8080/",
     "height": 306
    },
    "colab_type": "code",
    "id": "WHnXRcbxrN2_",
    "outputId": "c0e086a8-eee5-47e4-ba6b-d753cfa4bd3d"
   },
   "outputs": [
    {
     "name": "stdout",
     "output_type": "stream",
     "text": [
      "Model: \"sequential_5\"\n",
      "_________________________________________________________________\n",
      "Layer (type)                 Output Shape              Param #   \n",
      "=================================================================\n",
      "lstm_5 (LSTM)                (None, 128, 80)           28800     \n",
      "_________________________________________________________________\n",
      "dropout_5 (Dropout)          (None, 128, 80)           0         \n",
      "_________________________________________________________________\n",
      "lstm_6 (LSTM)                (None, 80)                51520     \n",
      "_________________________________________________________________\n",
      "dense_5 (Dense)              (None, 6)                 486       \n",
      "=================================================================\n",
      "Total params: 80,806\n",
      "Trainable params: 80,806\n",
      "Non-trainable params: 0\n",
      "_________________________________________________________________\n",
      "None\n"
     ]
    }
   ],
   "source": [
    "# With One LSTM Layer Model 1  # \n",
    "n_hidden = 80\n",
    "\n",
    "model4 = Sequential()\n",
    "\n",
    "# 1 LSTM layer\n",
    "model4.add(LSTM(n_hidden, input_shape = (timesteps, input_dim), return_sequences = True))     # 1 LSTM\n",
    "\n",
    "model4.add(Dropout(0.25))\n",
    "model4.add(LSTM(n_hidden)) \n",
    "model4.add(Dense(n_classes, activation = 'sigmoid'))\n",
    "\n",
    "model4.compile(loss = 'binary_crossentropy', optimizer = 'rmsprop', metrics = ['accuracy'])\n",
    "print(model4.summary())"
   ]
  },
  {
   "cell_type": "code",
   "execution_count": 38,
   "metadata": {
    "colab": {
     "base_uri": "https://localhost:8080/",
     "height": 1000
    },
    "colab_type": "code",
    "id": "pOR2NUr3rUYw",
    "outputId": "fee1c5b5-482a-467b-9ec5-beed9c7b9e0e"
   },
   "outputs": [
    {
     "name": "stdout",
     "output_type": "stream",
     "text": [
      "Train on 7352 samples, validate on 2947 samples\n",
      "Epoch 1/30\n",
      "7352/7352 [==============================] - 47s 6ms/step - loss: 0.3401 - acc: 0.8628 - val_loss: 0.3149 - val_acc: 0.8722\n",
      "Epoch 2/30\n",
      "7352/7352 [==============================] - 44s 6ms/step - loss: 0.2328 - acc: 0.8961 - val_loss: 0.2118 - val_acc: 0.9044\n",
      "Epoch 3/30\n",
      "7352/7352 [==============================] - 43s 6ms/step - loss: 0.1679 - acc: 0.9306 - val_loss: 0.1756 - val_acc: 0.9288\n",
      "Epoch 4/30\n",
      "7352/7352 [==============================] - 44s 6ms/step - loss: 0.1274 - acc: 0.9525 - val_loss: 0.1292 - val_acc: 0.9493\n",
      "Epoch 5/30\n",
      "7352/7352 [==============================] - 43s 6ms/step - loss: 0.1017 - acc: 0.9632 - val_loss: 0.1161 - val_acc: 0.9540\n",
      "Epoch 6/30\n",
      "7352/7352 [==============================] - 44s 6ms/step - loss: 0.0801 - acc: 0.9708 - val_loss: 0.1106 - val_acc: 0.9562\n",
      "Epoch 7/30\n",
      "7352/7352 [==============================] - 43s 6ms/step - loss: 0.0653 - acc: 0.9759 - val_loss: 0.1052 - val_acc: 0.9612\n",
      "Epoch 8/30\n",
      "7352/7352 [==============================] - 43s 6ms/step - loss: 0.0647 - acc: 0.9770 - val_loss: 0.1008 - val_acc: 0.9672\n",
      "Epoch 9/30\n",
      "7352/7352 [==============================] - 43s 6ms/step - loss: 0.0494 - acc: 0.9816 - val_loss: 0.1554 - val_acc: 0.9529\n",
      "Epoch 10/30\n",
      "7352/7352 [==============================] - 43s 6ms/step - loss: 0.0516 - acc: 0.9802 - val_loss: 0.1073 - val_acc: 0.9642\n",
      "Epoch 11/30\n",
      "7352/7352 [==============================] - 44s 6ms/step - loss: 0.0466 - acc: 0.9823 - val_loss: 0.0898 - val_acc: 0.9687\n",
      "Epoch 12/30\n",
      "7352/7352 [==============================] - 43s 6ms/step - loss: 0.0449 - acc: 0.9820 - val_loss: 0.0831 - val_acc: 0.9756\n",
      "Epoch 13/30\n",
      "7352/7352 [==============================] - 44s 6ms/step - loss: 0.0444 - acc: 0.9829 - val_loss: 0.0865 - val_acc: 0.9690\n",
      "Epoch 14/30\n",
      "7352/7352 [==============================] - 43s 6ms/step - loss: 0.0419 - acc: 0.9835 - val_loss: 0.0989 - val_acc: 0.9684\n",
      "Epoch 15/30\n",
      "7352/7352 [==============================] - 43s 6ms/step - loss: 0.0467 - acc: 0.9832 - val_loss: 0.0985 - val_acc: 0.9681\n",
      "Epoch 16/30\n",
      "7352/7352 [==============================] - 44s 6ms/step - loss: 0.0443 - acc: 0.9844 - val_loss: 0.0923 - val_acc: 0.9714\n",
      "Epoch 17/30\n",
      "7352/7352 [==============================] - 43s 6ms/step - loss: 0.0470 - acc: 0.9827 - val_loss: 0.1032 - val_acc: 0.9675\n",
      "Epoch 18/30\n",
      "7352/7352 [==============================] - 44s 6ms/step - loss: 0.0423 - acc: 0.9836 - val_loss: 0.0787 - val_acc: 0.9728\n",
      "Epoch 19/30\n",
      "7352/7352 [==============================] - 44s 6ms/step - loss: 0.0412 - acc: 0.9831 - val_loss: 0.0804 - val_acc: 0.9699\n",
      "Epoch 20/30\n",
      "7352/7352 [==============================] - 44s 6ms/step - loss: 0.0411 - acc: 0.9828 - val_loss: 0.0803 - val_acc: 0.9726\n",
      "Epoch 21/30\n",
      "7352/7352 [==============================] - 44s 6ms/step - loss: 0.0393 - acc: 0.9832 - val_loss: 0.1046 - val_acc: 0.9693\n",
      "Epoch 22/30\n",
      "7352/7352 [==============================] - 43s 6ms/step - loss: 0.0384 - acc: 0.9846 - val_loss: 0.0934 - val_acc: 0.9704\n",
      "Epoch 23/30\n",
      "7352/7352 [==============================] - 43s 6ms/step - loss: 0.0401 - acc: 0.9851 - val_loss: 0.1119 - val_acc: 0.9693\n",
      "Epoch 24/30\n",
      "7352/7352 [==============================] - 44s 6ms/step - loss: 0.0360 - acc: 0.9846 - val_loss: 0.0837 - val_acc: 0.9764\n",
      "Epoch 25/30\n",
      "7352/7352 [==============================] - 44s 6ms/step - loss: 0.0387 - acc: 0.9840 - val_loss: 0.0899 - val_acc: 0.9737\n",
      "Epoch 26/30\n",
      "7352/7352 [==============================] - 43s 6ms/step - loss: 0.0365 - acc: 0.9845 - val_loss: 0.0940 - val_acc: 0.9665\n",
      "Epoch 27/30\n",
      "7352/7352 [==============================] - 43s 6ms/step - loss: 0.0366 - acc: 0.9849 - val_loss: 0.1040 - val_acc: 0.9718\n",
      "Epoch 28/30\n",
      "7352/7352 [==============================] - 43s 6ms/step - loss: 0.0362 - acc: 0.9853 - val_loss: 0.1182 - val_acc: 0.9647\n",
      "Epoch 29/30\n",
      "7352/7352 [==============================] - 43s 6ms/step - loss: 0.0371 - acc: 0.9849 - val_loss: 0.0832 - val_acc: 0.9703\n",
      "Epoch 30/30\n",
      "7352/7352 [==============================] - 43s 6ms/step - loss: 0.0334 - acc: 0.9852 - val_loss: 0.0955 - val_acc: 0.9709\n",
      "CPU times: user 21min 25s, sys: 19.7 s, total: 21min 45s\n",
      "Wall time: 21min 49s\n"
     ]
    }
   ],
   "source": [
    "%%time\n",
    "# Training the model\n",
    "history4 = model4.fit(X_train,\n",
    "          Y_train,\n",
    "          batch_size= 64,\n",
    "          validation_data=(X_test, Y_test),\n",
    "          epochs=epochs)"
   ]
  },
  {
   "cell_type": "code",
   "execution_count": 39,
   "metadata": {
    "colab": {
     "base_uri": "https://localhost:8080/",
     "height": 51
    },
    "colab_type": "code",
    "id": "Q-Ova3k8rUWY",
    "outputId": "d6cc0412-d0f6-4975-ff6d-f028fec42333"
   },
   "outputs": [
    {
     "name": "stdout",
     "output_type": "stream",
     "text": [
      "2947/2947 [==============================] - 4s 1ms/step\n",
      "[0.09553245016018255, 0.9708743404444088]\n"
     ]
    }
   ],
   "source": [
    "score4 = model4.evaluate(X_test, Y_test)\n",
    "print(score4)"
   ]
  },
  {
   "cell_type": "code",
   "execution_count": 40,
   "metadata": {
    "colab": {
     "base_uri": "https://localhost:8080/",
     "height": 187
    },
    "colab_type": "code",
    "id": "YlwKzjjnrUUS",
    "outputId": "efa67cd8-280f-49b3-901f-a405f1065c07"
   },
   "outputs": [
    {
     "name": "stdout",
     "output_type": "stream",
     "text": [
      "Pred                LAYING  SITTING  ...  WALKING_DOWNSTAIRS  WALKING_UPSTAIRS\n",
      "True                                 ...                                      \n",
      "LAYING                 535        0  ...                   0                 2\n",
      "SITTING                  3      414  ...                   0                 2\n",
      "STANDING                 0       80  ...                   0                 0\n",
      "WALKING                  0        0  ...                  25                12\n",
      "WALKING_DOWNSTAIRS       0        0  ...                 418                 1\n",
      "WALKING_UPSTAIRS         0        0  ...                   5               466\n",
      "\n",
      "[6 rows x 6 columns]\n"
     ]
    }
   ],
   "source": [
    "# Confusion Matrix\n",
    "print(confusion_matrix(Y_test, model4.predict(X_test)))"
   ]
  },
  {
   "cell_type": "markdown",
   "metadata": {},
   "source": [
    "### Model5:: Architecture of LSTM(120) + Dropout(0.2) + l2 reg + rmsprop + sigmoid"
   ]
  },
  {
   "cell_type": "code",
   "execution_count": 38,
   "metadata": {
    "colab": {
     "base_uri": "https://localhost:8080/",
     "height": 598
    },
    "colab_type": "code",
    "id": "fS0VFPeHb8XG",
    "outputId": "fcdda984-74c5-4243-ca68-a33597952c59"
   },
   "outputs": [
    {
     "name": "stdout",
     "output_type": "stream",
     "text": [
      "WARNING:tensorflow:From /usr/local/lib/python3.6/dist-packages/keras/backend/tensorflow_backend.py:541: The name tf.placeholder is deprecated. Please use tf.compat.v1.placeholder instead.\n",
      "\n",
      "WARNING:tensorflow:From /usr/local/lib/python3.6/dist-packages/keras/backend/tensorflow_backend.py:4432: The name tf.random_uniform is deprecated. Please use tf.random.uniform instead.\n",
      "\n",
      "WARNING:tensorflow:From /usr/local/lib/python3.6/dist-packages/keras/backend/tensorflow_backend.py:148: The name tf.placeholder_with_default is deprecated. Please use tf.compat.v1.placeholder_with_default instead.\n",
      "\n",
      "WARNING:tensorflow:From /usr/local/lib/python3.6/dist-packages/keras/backend/tensorflow_backend.py:3733: calling dropout (from tensorflow.python.ops.nn_ops) with keep_prob is deprecated and will be removed in a future version.\n",
      "Instructions for updating:\n",
      "Please use `rate` instead of `keep_prob`. Rate should be set to `rate = 1 - keep_prob`.\n",
      "WARNING:tensorflow:From /usr/local/lib/python3.6/dist-packages/keras/optimizers.py:793: The name tf.train.Optimizer is deprecated. Please use tf.compat.v1.train.Optimizer instead.\n",
      "\n",
      "WARNING:tensorflow:From /usr/local/lib/python3.6/dist-packages/keras/backend/tensorflow_backend.py:3657: The name tf.log is deprecated. Please use tf.math.log instead.\n",
      "\n",
      "WARNING:tensorflow:From /usr/local/lib/python3.6/dist-packages/tensorflow_core/python/ops/nn_impl.py:183: where (from tensorflow.python.ops.array_ops) is deprecated and will be removed in a future version.\n",
      "Instructions for updating:\n",
      "Use tf.where in 2.0, which has the same broadcast rule as np.where\n",
      "Model: \"sequential_2\"\n",
      "_________________________________________________________________\n",
      "Layer (type)                 Output Shape              Param #   \n",
      "=================================================================\n",
      "lstm_1 (LSTM)                (None, 128, 120)          62400     \n",
      "_________________________________________________________________\n",
      "dropout_1 (Dropout)          (None, 128, 120)          0         \n",
      "_________________________________________________________________\n",
      "lstm_2 (LSTM)                (None, 120)               115680    \n",
      "_________________________________________________________________\n",
      "dense_1 (Dense)              (None, 6)                 726       \n",
      "=================================================================\n",
      "Total params: 178,806\n",
      "Trainable params: 178,806\n",
      "Non-trainable params: 0\n",
      "_________________________________________________________________\n",
      "None\n"
     ]
    }
   ],
   "source": [
    "# With One LSTM Layer Model 1  # \n",
    "from keras import regularizers\n",
    "n_hidden = 120\n",
    "\n",
    "model5 = Sequential()\n",
    "\n",
    "# 1 LSTM layer\n",
    "model5.add(LSTM(n_hidden, input_shape = (timesteps, input_dim),kernel_regularizer=regularizers.l2(0.001), return_sequences = True)) # \n",
    "model5.add(Dropout(0.2))\n",
    "model5.add(LSTM(n_hidden))\n",
    "model5.add(Dense(n_classes, activation = 'sigmoid'))\n",
    "\n",
    "model5.compile(loss = 'binary_crossentropy', optimizer = 'rmsprop', metrics = ['accuracy'])\n",
    "print(model5.summary())"
   ]
  },
  {
   "cell_type": "code",
   "execution_count": 39,
   "metadata": {
    "colab": {
     "base_uri": "https://localhost:8080/",
     "height": 1000
    },
    "colab_type": "code",
    "id": "hspkRB2tb8St",
    "outputId": "44cfd00f-c2b7-4a55-c283-cde7edf8af1c"
   },
   "outputs": [
    {
     "name": "stdout",
     "output_type": "stream",
     "text": [
      "WARNING:tensorflow:From /usr/local/lib/python3.6/dist-packages/keras/backend/tensorflow_backend.py:1033: The name tf.assign_add is deprecated. Please use tf.compat.v1.assign_add instead.\n",
      "\n",
      "WARNING:tensorflow:From /usr/local/lib/python3.6/dist-packages/keras/backend/tensorflow_backend.py:1020: The name tf.assign is deprecated. Please use tf.compat.v1.assign instead.\n",
      "\n",
      "Train on 7352 samples, validate on 2947 samples\n",
      "Epoch 1/30\n",
      "WARNING:tensorflow:From /usr/local/lib/python3.6/dist-packages/keras/backend/tensorflow_backend.py:190: The name tf.get_default_session is deprecated. Please use tf.compat.v1.get_default_session instead.\n",
      "\n",
      "WARNING:tensorflow:From /usr/local/lib/python3.6/dist-packages/keras/backend/tensorflow_backend.py:207: The name tf.global_variables is deprecated. Please use tf.compat.v1.global_variables instead.\n",
      "\n",
      "WARNING:tensorflow:From /usr/local/lib/python3.6/dist-packages/keras/backend/tensorflow_backend.py:216: The name tf.is_variable_initialized is deprecated. Please use tf.compat.v1.is_variable_initialized instead.\n",
      "\n",
      "WARNING:tensorflow:From /usr/local/lib/python3.6/dist-packages/keras/backend/tensorflow_backend.py:223: The name tf.variables_initializer is deprecated. Please use tf.compat.v1.variables_initializer instead.\n",
      "\n",
      "7352/7352 [==============================] - 64s 9ms/step - loss: 0.3401 - acc: 0.8633 - val_loss: 0.3031 - val_acc: 0.8701\n",
      "Epoch 2/30\n",
      "7352/7352 [==============================] - 62s 8ms/step - loss: 0.2371 - acc: 0.8936 - val_loss: 0.2034 - val_acc: 0.9147\n",
      "Epoch 3/30\n",
      "7352/7352 [==============================] - 62s 8ms/step - loss: 0.1735 - acc: 0.9275 - val_loss: 0.1988 - val_acc: 0.9175\n",
      "Epoch 4/30\n",
      "7352/7352 [==============================] - 62s 8ms/step - loss: 0.1435 - acc: 0.9455 - val_loss: 0.1584 - val_acc: 0.9384\n",
      "Epoch 5/30\n",
      "7352/7352 [==============================] - 62s 8ms/step - loss: 0.1283 - acc: 0.9526 - val_loss: 0.1741 - val_acc: 0.9325\n",
      "Epoch 6/30\n",
      "7352/7352 [==============================] - 62s 8ms/step - loss: 0.1031 - acc: 0.9649 - val_loss: 0.1710 - val_acc: 0.9416\n",
      "Epoch 7/30\n",
      "7352/7352 [==============================] - 62s 8ms/step - loss: 0.0879 - acc: 0.9700 - val_loss: 0.1748 - val_acc: 0.9423\n",
      "Epoch 8/30\n",
      "7352/7352 [==============================] - 62s 8ms/step - loss: 0.0781 - acc: 0.9739 - val_loss: 0.1208 - val_acc: 0.9598\n",
      "Epoch 9/30\n",
      "7352/7352 [==============================] - 62s 8ms/step - loss: 0.0643 - acc: 0.9782 - val_loss: 0.2129 - val_acc: 0.9399\n",
      "Epoch 10/30\n",
      "7352/7352 [==============================] - 62s 8ms/step - loss: 0.0662 - acc: 0.9771 - val_loss: 0.2555 - val_acc: 0.9295\n",
      "Epoch 11/30\n",
      "7352/7352 [==============================] - 62s 8ms/step - loss: 0.0601 - acc: 0.9795 - val_loss: 0.1097 - val_acc: 0.9628\n",
      "Epoch 12/30\n",
      "7352/7352 [==============================] - 62s 8ms/step - loss: 0.0548 - acc: 0.9810 - val_loss: 0.1137 - val_acc: 0.9641\n",
      "Epoch 13/30\n",
      "7352/7352 [==============================] - 62s 8ms/step - loss: 0.0543 - acc: 0.9807 - val_loss: 0.1084 - val_acc: 0.9643\n",
      "Epoch 14/30\n",
      "7352/7352 [==============================] - 62s 8ms/step - loss: 0.0523 - acc: 0.9810 - val_loss: 0.1178 - val_acc: 0.9640\n",
      "Epoch 15/30\n",
      "7352/7352 [==============================] - 62s 8ms/step - loss: 0.0566 - acc: 0.9806 - val_loss: 0.0952 - val_acc: 0.9683\n",
      "Epoch 16/30\n",
      "7352/7352 [==============================] - 62s 8ms/step - loss: 0.0532 - acc: 0.9813 - val_loss: 0.1558 - val_acc: 0.9587\n",
      "Epoch 17/30\n",
      "7352/7352 [==============================] - 62s 8ms/step - loss: 0.0535 - acc: 0.9807 - val_loss: 0.1690 - val_acc: 0.9567\n",
      "Epoch 18/30\n",
      "7352/7352 [==============================] - 62s 8ms/step - loss: 0.0504 - acc: 0.9819 - val_loss: 0.1125 - val_acc: 0.9676\n",
      "Epoch 19/30\n",
      "7352/7352 [==============================] - 62s 8ms/step - loss: 0.0510 - acc: 0.9821 - val_loss: 0.1061 - val_acc: 0.9696\n",
      "Epoch 20/30\n",
      "7352/7352 [==============================] - 62s 8ms/step - loss: 0.0545 - acc: 0.9815 - val_loss: 0.1068 - val_acc: 0.9661\n",
      "Epoch 21/30\n",
      "7352/7352 [==============================] - 62s 8ms/step - loss: 0.0485 - acc: 0.9832 - val_loss: 0.0999 - val_acc: 0.9738\n",
      "Epoch 22/30\n",
      "7352/7352 [==============================] - 62s 8ms/step - loss: 0.0482 - acc: 0.9829 - val_loss: 0.1025 - val_acc: 0.9691\n",
      "Epoch 23/30\n",
      "7352/7352 [==============================] - 62s 8ms/step - loss: 0.0515 - acc: 0.9825 - val_loss: 0.1023 - val_acc: 0.9683\n",
      "Epoch 24/30\n",
      "7352/7352 [==============================] - 63s 9ms/step - loss: 0.0480 - acc: 0.9835 - val_loss: 0.1004 - val_acc: 0.9680\n",
      "Epoch 25/30\n",
      "7352/7352 [==============================] - 62s 8ms/step - loss: 0.0460 - acc: 0.9836 - val_loss: 0.0954 - val_acc: 0.9720\n",
      "Epoch 26/30\n",
      "7352/7352 [==============================] - 62s 8ms/step - loss: 0.0446 - acc: 0.9836 - val_loss: 0.1036 - val_acc: 0.9695\n",
      "Epoch 27/30\n",
      "7352/7352 [==============================] - 62s 8ms/step - loss: 0.0436 - acc: 0.9843 - val_loss: 0.1164 - val_acc: 0.9654\n",
      "Epoch 28/30\n",
      "7352/7352 [==============================] - 63s 9ms/step - loss: 0.0443 - acc: 0.9842 - val_loss: 0.0846 - val_acc: 0.9721\n",
      "Epoch 29/30\n",
      "7352/7352 [==============================] - 63s 9ms/step - loss: 0.0426 - acc: 0.9830 - val_loss: 0.0901 - val_acc: 0.9746\n",
      "Epoch 30/30\n",
      "7352/7352 [==============================] - 62s 8ms/step - loss: 0.0439 - acc: 0.9830 - val_loss: 0.0927 - val_acc: 0.9678\n"
     ]
    }
   ],
   "source": [
    "# Training the model\n",
    "history5 = model5.fit(X_train,\n",
    "          Y_train,\n",
    "          batch_size= 64,\n",
    "          validation_data=(X_test, Y_test),\n",
    "          epochs=epochs)"
   ]
  },
  {
   "cell_type": "code",
   "execution_count": 40,
   "metadata": {
    "colab": {
     "base_uri": "https://localhost:8080/",
     "height": 51
    },
    "colab_type": "code",
    "id": "06ci-A9fJEf4",
    "outputId": "7379afaf-5f59-492a-d57b-5a8545a139a8"
   },
   "outputs": [
    {
     "name": "stdout",
     "output_type": "stream",
     "text": [
      "2947/2947 [==============================] - 5s 2ms/step\n"
     ]
    },
    {
     "data": {
      "text/plain": [
       "[0.09267068984828229, 0.9678203892133419]"
      ]
     },
     "execution_count": 40,
     "metadata": {
      "tags": []
     },
     "output_type": "execute_result"
    }
   ],
   "source": [
    "score5 = model5.evaluate(X_test, Y_test)\n",
    "score5"
   ]
  },
  {
   "cell_type": "code",
   "execution_count": 41,
   "metadata": {
    "colab": {
     "base_uri": "https://localhost:8080/",
     "height": 187
    },
    "colab_type": "code",
    "id": "6d0rrUciJEoF",
    "outputId": "0aec7aa1-bdaf-49e9-cf9a-31491cd2b6d7"
   },
   "outputs": [
    {
     "name": "stdout",
     "output_type": "stream",
     "text": [
      "Pred                LAYING  SITTING  ...  WALKING_DOWNSTAIRS  WALKING_UPSTAIRS\n",
      "True                                 ...                                      \n",
      "LAYING                 502       35  ...                   0                 0\n",
      "SITTING                  2      417  ...                   0                 6\n",
      "STANDING                 0      112  ...                   0                 3\n",
      "WALKING                  0        3  ...                  14                12\n",
      "WALKING_DOWNSTAIRS       0        0  ...                 415                 0\n",
      "WALKING_UPSTAIRS         0        0  ...                   2               441\n",
      "\n",
      "[6 rows x 6 columns]\n"
     ]
    }
   ],
   "source": [
    "# Confusion Matrix\n",
    "print(confusion_matrix(Y_test, model5.predict(X_test)))"
   ]
  },
  {
   "cell_type": "code",
   "execution_count": 0,
   "metadata": {
    "colab": {},
    "colab_type": "code",
    "id": "6AVfUb9iOYSS"
   },
   "outputs": [],
   "source": [
    "# utility function\n",
    "import matplotlib.pyplot as plt\n",
    "import numpy as np\n",
    "import time\n",
    "# https://gist.github.com/greydanus/f6eee59eaf1d90fcb3b534a25362cea4\n",
    "# https://stackoverflow.com/a/14434334\n",
    "# this function is used to update the plots for each epoch and error\n",
    "def plt_dynamic(x, vy, ty, ax, colors=['b']):\n",
    "    ax.plot(x, vy, 'b', label=\"Validation Loss\")\n",
    "    ax.plot(x, ty, 'r', label=\"Train Loss\")\n",
    "    plt.legend()\n",
    "    plt.grid()\n",
    "    fig.canvas.draw()"
   ]
  },
  {
   "cell_type": "code",
   "execution_count": 50,
   "metadata": {
    "colab": {
     "base_uri": "https://localhost:8080/",
     "height": 280
    },
    "colab_type": "code",
    "id": "qucPs79uPWaj",
    "outputId": "32c58e5d-efce-4e70-c930-763525f8ed89"
   },
   "outputs": [
    {
     "data": {
      "image/png": "[encoded data removed]",
      "text/plain": [
       "<Figure size 432x288 with 1 Axes>"
      ]
     },
     "metadata": {
      "tags": []
     },
     "output_type": "display_data"
    }
   ],
   "source": [
    "fig,ax = plt.subplots(1,1)\n",
    "ax.set_xlabel('epoch') ; ax.set_ylabel('binary_crossentropy')\n",
    "\n",
    "# list of epoch numbers\n",
    "x = list(range(1,epochs+1))\n",
    "\n",
    "# print(history.history.keys())\n",
    "# dict_keys(['val_loss', 'val_acc', 'loss', 'acc'])\n",
    "# history = model_drop.fit(X_train, Y_train, batch_size=batch_size, epochs=nb_epoch, verbose=1, validation_data=(X_test, Y_test))\n",
    "\n",
    "# we will get val_loss and val_acc only when you pass the paramter validation_data\n",
    "# val_loss : validation loss\n",
    "# val_acc : validation accuracy\n",
    "\n",
    "# loss : training loss\n",
    "# acc : train accuracy\n",
    "# for each key in histrory.histrory we will have a list of length equal to number of epochs\n",
    "\n",
    "vy = history5.history['val_loss']\n",
    "ty = history5.history['loss']\n",
    "plt_dynamic(x, vy, ty, ax)\n"
   ]
  },
  {
   "cell_type": "markdown",
   "metadata": {},
   "source": [
    "### Model6 :: Architecture of LSTM(120) + Dropout(0.7) + l2 reg + rmsprop + sigmoid"
   ]
  },
  {
   "cell_type": "code",
   "execution_count": 52,
   "metadata": {
    "colab": {
     "base_uri": "https://localhost:8080/",
     "height": 1000
    },
    "colab_type": "code",
    "id": "sPmW2nCNYdCV",
    "outputId": "1c4f4c5b-e3fd-483b-cc2d-a335478d8c4d"
   },
   "outputs": [
    {
     "name": "stdout",
     "output_type": "stream",
     "text": [
      "WARNING:tensorflow:Large dropout rate: 0.7 (>0.5). In TensorFlow 2.x, dropout() uses dropout rate instead of keep_prob. Please ensure that this is intended.\n",
      "WARNING:tensorflow:Large dropout rate: 0.7 (>0.5). In TensorFlow 2.x, dropout() uses dropout rate instead of keep_prob. Please ensure that this is intended.\n",
      "Model: \"sequential_3\"\n",
      "_________________________________________________________________\n",
      "Layer (type)                 Output Shape              Param #   \n",
      "=================================================================\n",
      "lstm_3 (LSTM)                (None, 128, 120)          62400     \n",
      "_________________________________________________________________\n",
      "dropout_2 (Dropout)          (None, 128, 120)          0         \n",
      "_________________________________________________________________\n",
      "lstm_4 (LSTM)                (None, 120)               115680    \n",
      "_________________________________________________________________\n",
      "dropout_3 (Dropout)          (None, 120)               0         \n",
      "_________________________________________________________________\n",
      "dense_2 (Dense)              (None, 6)                 726       \n",
      "=================================================================\n",
      "Total params: 178,806\n",
      "Trainable params: 178,806\n",
      "Non-trainable params: 0\n",
      "_________________________________________________________________\n",
      "None\n",
      "Train on 7352 samples, validate on 2947 samples\n",
      "Epoch 1/30\n",
      "7352/7352 [==============================] - 128s 17ms/step - loss: 0.3705 - acc: 0.8606 - val_loss: 0.3305 - val_acc: 0.8720\n",
      "Epoch 2/30\n",
      "7352/7352 [==============================] - 124s 17ms/step - loss: 0.3343 - acc: 0.8709 - val_loss: 0.3576 - val_acc: 0.8618\n",
      "Epoch 3/30\n",
      "7352/7352 [==============================] - 124s 17ms/step - loss: 0.2538 - acc: 0.8903 - val_loss: 0.2771 - val_acc: 0.8854\n",
      "Epoch 4/30\n",
      "7352/7352 [==============================] - 124s 17ms/step - loss: 0.1986 - acc: 0.9169 - val_loss: 0.1806 - val_acc: 0.9353\n",
      "Epoch 5/30\n",
      "7352/7352 [==============================] - 123s 17ms/step - loss: 0.1488 - acc: 0.9571 - val_loss: 0.1084 - val_acc: 0.9636\n",
      "Epoch 6/30\n",
      "7352/7352 [==============================] - 123s 17ms/step - loss: 0.1200 - acc: 0.9652 - val_loss: 0.2781 - val_acc: 0.9151\n",
      "Epoch 7/30\n",
      "7352/7352 [==============================] - 122s 17ms/step - loss: 0.1101 - acc: 0.9660 - val_loss: 0.1660 - val_acc: 0.9533\n",
      "Epoch 8/30\n",
      "7352/7352 [==============================] - 122s 17ms/step - loss: 0.1410 - acc: 0.9622 - val_loss: 0.1025 - val_acc: 0.9712\n",
      "Epoch 9/30\n",
      "7352/7352 [==============================] - 123s 17ms/step - loss: 0.1038 - acc: 0.9691 - val_loss: 0.1108 - val_acc: 0.9683\n",
      "Epoch 10/30\n",
      "7352/7352 [==============================] - 122s 17ms/step - loss: 0.0915 - acc: 0.9734 - val_loss: 0.1271 - val_acc: 0.9589\n",
      "Epoch 11/30\n",
      "7352/7352 [==============================] - 123s 17ms/step - loss: 0.0904 - acc: 0.9723 - val_loss: 0.0979 - val_acc: 0.9703\n",
      "Epoch 12/30\n",
      "7352/7352 [==============================] - 123s 17ms/step - loss: 0.0963 - acc: 0.9719 - val_loss: 0.0830 - val_acc: 0.9731\n",
      "Epoch 13/30\n",
      "7352/7352 [==============================] - 123s 17ms/step - loss: 0.0795 - acc: 0.9767 - val_loss: 0.0922 - val_acc: 0.9743\n",
      "Epoch 14/30\n",
      "7352/7352 [==============================] - 123s 17ms/step - loss: 0.0726 - acc: 0.9784 - val_loss: 0.1042 - val_acc: 0.9697\n",
      "Epoch 15/30\n",
      "7352/7352 [==============================] - 122s 17ms/step - loss: 0.0791 - acc: 0.9774 - val_loss: 0.0968 - val_acc: 0.9701\n",
      "Epoch 16/30\n",
      "7352/7352 [==============================] - 122s 17ms/step - loss: 0.0798 - acc: 0.9771 - val_loss: 0.0951 - val_acc: 0.9690\n",
      "Epoch 17/30\n",
      "7352/7352 [==============================] - 121s 16ms/step - loss: 0.0742 - acc: 0.9766 - val_loss: 0.0945 - val_acc: 0.9713\n",
      "Epoch 18/30\n",
      "7352/7352 [==============================] - 123s 17ms/step - loss: 0.0748 - acc: 0.9772 - val_loss: 0.1719 - val_acc: 0.9295\n",
      "Epoch 19/30\n",
      "7352/7352 [==============================] - 123s 17ms/step - loss: 0.0733 - acc: 0.9766 - val_loss: 0.1109 - val_acc: 0.9661\n",
      "Epoch 20/30\n",
      "7352/7352 [==============================] - 122s 17ms/step - loss: 0.0780 - acc: 0.9779 - val_loss: 0.0917 - val_acc: 0.9712\n",
      "Epoch 21/30\n",
      "7352/7352 [==============================] - 122s 17ms/step - loss: 0.0680 - acc: 0.9796 - val_loss: 0.1131 - val_acc: 0.9679\n",
      "Epoch 22/30\n",
      "7352/7352 [==============================] - 122s 17ms/step - loss: 0.0696 - acc: 0.9781 - val_loss: 0.1164 - val_acc: 0.9578\n",
      "Epoch 23/30\n",
      "7352/7352 [==============================] - 122s 17ms/step - loss: 0.0703 - acc: 0.9792 - val_loss: 0.1089 - val_acc: 0.9723\n",
      "Epoch 24/30\n",
      "7352/7352 [==============================] - 121s 17ms/step - loss: 0.0783 - acc: 0.9784 - val_loss: 0.1086 - val_acc: 0.9683\n",
      "Epoch 25/30\n",
      "7352/7352 [==============================] - 122s 17ms/step - loss: 0.0696 - acc: 0.9783 - val_loss: 0.0863 - val_acc: 0.9719\n",
      "Epoch 26/30\n",
      "7352/7352 [==============================] - 122s 17ms/step - loss: 0.0840 - acc: 0.9764 - val_loss: 0.0776 - val_acc: 0.9740\n",
      "Epoch 27/30\n",
      "7352/7352 [==============================] - 126s 17ms/step - loss: 0.1573 - acc: 0.9591 - val_loss: 0.0823 - val_acc: 0.9735\n",
      "Epoch 28/30\n",
      "7352/7352 [==============================] - 124s 17ms/step - loss: 0.0718 - acc: 0.9787 - val_loss: 0.0821 - val_acc: 0.9731\n",
      "Epoch 29/30\n",
      "7352/7352 [==============================] - 124s 17ms/step - loss: 0.0931 - acc: 0.9712 - val_loss: 0.0855 - val_acc: 0.9746\n",
      "Epoch 30/30\n",
      "7352/7352 [==============================] - 124s 17ms/step - loss: 0.0705 - acc: 0.9794 - val_loss: 0.0985 - val_acc: 0.9742\n"
     ]
    }
   ],
   "source": [
    "# With One LSTM Layer Model 1  # \n",
    "n_hidden = 120\n",
    "# Initiliazing the sequential model\n",
    "model6 = Sequential()\n",
    "\n",
    "# Configuring the parameters\n",
    "model6.add(LSTM(n_hidden, input_shape = (timesteps, input_dim),kernel_regularizer=regularizers.l2(0.01), return_sequences = True)) # \n",
    "model6.add(Dropout(0.7)) # Adding a dropout layer\n",
    "model6.add(LSTM(n_hidden)) # Configuring the parameters\n",
    "model6.add(Dropout(0.7)) # Adding a dropout layer\n",
    "model6.add(Dense(n_classes, activation = 'sigmoid')) # Adding a dense output layer with sigmoid activation\n",
    "# Compiling the model\n",
    "model6.compile(loss = 'binary_crossentropy', optimizer = 'rmsprop', metrics = ['accuracy'])\n",
    "print(model6.summary())\n",
    "# Training the model\n",
    "history6 = model6.fit(X_train,Y_train,batch_size=batch_size,validation_data=(X_test, Y_test),epochs=epochs)"
   ]
  },
  {
   "cell_type": "code",
   "execution_count": 53,
   "metadata": {
    "colab": {
     "base_uri": "https://localhost:8080/",
     "height": 51
    },
    "colab_type": "code",
    "id": "gi48Wq8lYkEE",
    "outputId": "91badfa9-11c6-47d4-8e33-bac5a3ff61d0"
   },
   "outputs": [
    {
     "name": "stdout",
     "output_type": "stream",
     "text": [
      "2947/2947 [==============================] - 6s 2ms/step\n"
     ]
    },
    {
     "data": {
      "text/plain": [
       "[0.09851918673862693, 0.9741545128021396]"
      ]
     },
     "execution_count": 53,
     "metadata": {
      "tags": []
     },
     "output_type": "execute_result"
    }
   ],
   "source": [
    "score6 = model6.evaluate(X_test, Y_test)\n",
    "score6"
   ]
  },
  {
   "cell_type": "code",
   "execution_count": 54,
   "metadata": {
    "colab": {
     "base_uri": "https://localhost:8080/",
     "height": 187
    },
    "colab_type": "code",
    "id": "IDAizedBmLZG",
    "outputId": "31b29088-e3e2-4c72-d965-2d560b64d5f2"
   },
   "outputs": [
    {
     "name": "stdout",
     "output_type": "stream",
     "text": [
      "Pred                LAYING  SITTING  ...  WALKING_DOWNSTAIRS  WALKING_UPSTAIRS\n",
      "True                                 ...                                      \n",
      "LAYING                 537        0  ...                   0                 0\n",
      "SITTING                  1      376  ...                   0                 0\n",
      "STANDING                 0       74  ...                   0                 0\n",
      "WALKING                  0        0  ...                   8                16\n",
      "WALKING_DOWNSTAIRS       0        0  ...                 417                 3\n",
      "WALKING_UPSTAIRS         0        0  ...                  16               455\n",
      "\n",
      "[6 rows x 6 columns]\n"
     ]
    }
   ],
   "source": [
    "# Confusion MAtrix\n",
    "print(confusion_matrix(Y_test, model6.predict(X_test)))"
   ]
  },
  {
   "cell_type": "code",
   "execution_count": 57,
   "metadata": {
    "colab": {
     "base_uri": "https://localhost:8080/",
     "height": 295
    },
    "colab_type": "code",
    "id": "W937dN_PmcvV",
    "outputId": "5f5fe7bf-e4bf-41d9-cbf6-10cfedbc01bd"
   },
   "outputs": [
    {
     "data": {
      "image/png": "[encoded data removed]",
      "text/plain": [
       "<Figure size 432x288 with 1 Axes>"
      ]
     },
     "metadata": {
      "tags": []
     },
     "output_type": "display_data"
    }
   ],
   "source": [
    "fig, ax = plt.subplots(1,1)\n",
    "ax.set_xlabel('epochs');ax.set_ylabel('binary crossentropy loss');ax.set_title(\"Model 6 loss vs epochs\")\n",
    "x = list(range(1,31))\n",
    "\n",
    "vy = history6.history['val_loss']\n",
    "ty = history6.history['loss']\n",
    "\n",
    "plt_dynamic(x, vy, ty, ax)"
   ]
  },
  {
   "cell_type": "markdown",
   "metadata": {},
   "source": [
    "## Conclusion::"
   ]
  },
  {
   "cell_type": "code",
   "execution_count": 1,
   "metadata": {
    "colab": {},
    "colab_type": "code",
    "id": "eykkPVURaGCi"
   },
   "outputs": [
    {
     "name": "stdout",
     "output_type": "stream",
     "text": [
      "+-------------------------+--------------+--------+------------+------------+-----------+---------+----------+-----------+\n",
      "|          Model          | Hidden layer | epochs | batch_size | activation | Optimizer | Dropout | Val_Loss | Val_acc % |\n",
      "+-------------------------+--------------+--------+------------+------------+-----------+---------+----------+-----------+\n",
      "|        LSTM Model       |      32      |   30   |     16     |  Sigmoid   |  rmsprop  |   0.5   |  0.5088  |   0.8958  |\n",
      "|       LSTM Model1       |      32      |   30   |     16     |  Sigmoid   |  rmsprop  |   0.5   |  0.3348  |   0.9155  |\n",
      "|       LSTM Model2       |      42      |   30   |     16     |  Sigmoid   |  rmsprop  |   0.5   |  0.8907  |   0.8493  |\n",
      "|       LSTM Model3       |      80      |   30   |     64     |  Sigmoid   |    adam   |   0.25  |  0.1164  |   0.9629  |\n",
      "|       LSTM Model4       |      80      |   30   |     64     |  Sigmoid   |  rmsprop  |   0.25  |  0.0955  |   0.9708  |\n",
      "| LSTM Model5 with l2 Reg |     120      |   30   |     64     |  Sigmoid   |  rmsprop  |   0.2   |  0.0926  |   0.9678  |\n",
      "| LSTM Model6 with l2 Reg |     120      |   30   |     16     |  Sigmoid   |  rmsprop  |   0.7   |  0.0985  |   0.9741  |\n",
      "+-------------------------+--------------+--------+------------+------------+-----------+---------+----------+-----------+\n"
     ]
    }
   ],
   "source": [
    "from prettytable import PrettyTable\n",
    "\n",
    "p = PrettyTable()\n",
    "p.field_names = [\"Model\",\"Hidden layer\",\"epochs\", \"batch_size\",\"activation\",\"Optimizer\",\"Dropout\", \"Val_Loss\", \"Val_acc %\"]\n",
    "p.add_row(['LSTM Model',  32, 30, 16, 'Sigmoid', 'rmsprop', 0.5, 0.5088, 0.8958])\n",
    "p.add_row(['LSTM Model1', 32, 30, 16, 'Sigmoid', 'rmsprop', 0.5, 0.3348, 0.9155])\n",
    "p.add_row(['LSTM Model2', 42, 30, 16, 'Sigmoid', 'rmsprop', 0.5, 0.8907, 0.8493])\n",
    "p.add_row(['LSTM Model3', 80, 30, 64, 'Sigmoid', 'adam',   0.25, 0.1164, 0.9629])\n",
    "p.add_row(['LSTM Model4', 80, 30, 64, 'Sigmoid', 'rmsprop', 0.25, 0.0955, 0.9708])\n",
    "p.add_row(['LSTM Model5 with l2 Reg', 120, 30, 64, 'Sigmoid', 'rmsprop', 0.2, 0.0926, 0.9678])\n",
    "p.add_row(['LSTM Model6 with l2 Reg', 120, 30, 16, 'Sigmoid', 'rmsprop', 0.7, 0.0985, 0.9741])\n",
    "print(p)"
   ]
  },
  {
   "cell_type": "markdown",
   "metadata": {},
   "source": [
    "### Observations ::\n",
    "\n",
    "- By increasing the hidden layers to 80 we got a very good result of 0.9629 % with \"adam\" optimzier .\n",
    "- Lstm + dropout(0.25) model ,with 80 hidden layers with \"rmsprop\" optimizer we got a test acccuracy of 0.9708 %.\n",
    "- Lstm + Large dropout(0.7) model ,with 120 hidden layers with \"sigmoid\" activation function we got a test acccuracy of 0.9741%.\n",
    "\n",
    "\n",
    "- Cite : https://towardsdatascience.com/a-guide-to-an-efficient-way-to-build-neural-network-architectures-part-i-hyper-parameter-8129009f131b\n",
    "- Cite : https://machinelearningmastery.com/cnn-models-for-human-activity-recognition-time-series-classification/"
   ]
  },
  {
   "cell_type": "markdown",
   "metadata": {
    "colab": {},
    "colab_type": "code",
    "id": "Y8f_LXQ3oCYv"
   },
   "source": [
    "<img src='hartq.png'>\n",
    "\n",
    "<nav style=\"text-align:center\">\n",
    "<a href=\"https://www.linkedin.com/in/rameshbattuai/\">**Sign Off RAMESH BATTU**</a></nav>\n"
   ]
  }
 ],
 "metadata": {
  "colab": {
   "collapsed_sections": [],
   "name": "Human activity detection.ipynb",
   "provenance": []
  },
  "kernelspec": {
   "display_name": "Python 3",
   "language": "python",
   "name": "python3"
  },
  "language_info": {
   "codemirror_mode": {
    "name": "ipython",
    "version": 3
   },
   "file_extension": ".py",
   "mimetype": "text/x-python",
   "name": "python",
   "nbconvert_exporter": "python",
   "pygments_lexer": "ipython3",
   "version": "3.6.5"
  }
 },
 "nbformat": 4,
 "nbformat_minor": 1
}
